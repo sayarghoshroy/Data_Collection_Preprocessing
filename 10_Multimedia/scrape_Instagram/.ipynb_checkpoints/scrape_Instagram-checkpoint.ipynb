{
 "cells": [
  {
   "cell_type": "code",
   "execution_count": 1,
   "metadata": {},
   "outputs": [],
   "source": [
    "%%capture\n",
    "!pip install instaloader"
   ]
  },
  {
   "cell_type": "code",
   "execution_count": 2,
   "metadata": {
    "scrolled": true
   },
   "outputs": [
    {
     "name": "stdout",
     "output_type": "stream",
     "text": [
      "#football/2021-09-25_01-56-14_UTC_profile_pic.jpg \n",
      "Retrieving pictures with hashtag #football...\n",
      "[1/5] #football/2021-09-25_06-37-48_UTC.jpg [Big match today🔥 Clash of Gia…] \n",
      "[2/5] #football/2021-09-25_06-37-43_UTC.jpg [Virgil drží za Liverpool v ne…] \n",
      "[3/5] #football/2021-09-25_06-37-42_UTC.jpg [ا Sports. #sports #sport #act…] \n",
      "[4/5] #football/2021-09-25_06-37-41_UTC.jpg [On Game 24 Sept 2021   04.30 …] \n",
      "[5/5] #football/2021-09-25_06-37-38_UTC_1.jpg #football/2021-09-25_06-37-38_UTC_2.jpg #football/2021-09-25_06-37-38_UTC_3.jpg #football/2021-09-25_06-37-38_UTC_4.jpg #football/2021-09-25_06-37-38_UTC_5.jpg #football/2021-09-25_06-37-38_UTC_6.jpg #football/2021-09-25_06-37-38_UTC_7.jpg #football/2021-09-25_06-37-38_UTC_8.jpg #football/2021-09-25_06-37-38_UTC_9.jpg #football/2021-09-25_06-37-38_UTC_10.jpg [Galery sepak bola ⚽ 🔰 @serang…] \n"
     ]
    }
   ],
   "source": [
    "# Fetch images related to a particular hashtag\n",
    "\n",
    "import instaloader\n",
    "\n",
    "L = instaloader.Instaloader(download_videos = False, save_metadata = False)\n",
    "\n",
    "L.download_hashtag('football', max_count = 5)"
   ]
  },
  {
   "cell_type": "code",
   "execution_count": 3,
   "metadata": {},
   "outputs": [],
   "source": [
    "# User profile information\n",
    "\n",
    "USER = 'leomessi'\n",
    "profile = instaloader.Profile.from_username(L.context, USER)"
   ]
  },
  {
   "cell_type": "code",
   "execution_count": 4,
   "metadata": {},
   "outputs": [
    {
     "name": "stdout",
     "output_type": "stream",
     "text": [
      "<Profile leomessi (427553890)>\n"
     ]
    }
   ],
   "source": [
    "print(profile)"
   ]
  },
  {
   "cell_type": "code",
   "execution_count": 5,
   "metadata": {},
   "outputs": [
    {
     "name": "stdout",
     "output_type": "stream",
     "text": [
      "Bienvenidos a la cuenta oficial de Instagram de Leo Messi / Welcome to the official Leo Messi Instagram account\n"
     ]
    }
   ],
   "source": [
    "print(profile.biography)"
   ]
  },
  {
   "cell_type": "code",
   "execution_count": 6,
   "metadata": {},
   "outputs": [
    {
     "name": "stdout",
     "output_type": "stream",
     "text": [
      "General Interest\n"
     ]
    }
   ],
   "source": [
    "print(profile.business_category_name)"
   ]
  },
  {
   "cell_type": "code",
   "execution_count": 7,
   "metadata": {},
   "outputs": [
    {
     "name": "stdout",
     "output_type": "stream",
     "text": [
      "278\n"
     ]
    }
   ],
   "source": [
    "print(profile.followees)"
   ]
  },
  {
   "cell_type": "code",
   "execution_count": 8,
   "metadata": {},
   "outputs": [
    {
     "name": "stdout",
     "output_type": "stream",
     "text": [
      "268495169\n"
     ]
    }
   ],
   "source": [
    "print(profile.followers)"
   ]
  },
  {
   "cell_type": "code",
   "execution_count": 9,
   "metadata": {},
   "outputs": [
    {
     "name": "stdout",
     "output_type": "stream",
     "text": [
      "Leo Messi\n"
     ]
    }
   ],
   "source": [
    "print(profile.full_name)"
   ]
  },
  {
   "cell_type": "code",
   "execution_count": 10,
   "metadata": {},
   "outputs": [
    {
     "name": "stdout",
     "output_type": "stream",
     "text": [
      "https://scontent-ccu1-1.cdninstagram.com/v/t51.2885-19/s320x320/43818140_2116018831763532_3803033961098117120_n.jpg?_nc_ht=scontent-ccu1-1.cdninstagram.com&_nc_ohc=BuGWNkYVmSYAX9J8zrR&edm=AAuNW_gBAAAA&ccb=7-4&oh=615d95cea28759eb2dc6cf1a2e69d67d&oe=6154EC72&_nc_sid=498da5\n"
     ]
    }
   ],
   "source": [
    "print(profile.get_profile_pic_url())"
   ]
  },
  {
   "cell_type": "code",
   "execution_count": 11,
   "metadata": {},
   "outputs": [
    {
     "name": "stdout",
     "output_type": "stream",
     "text": [
      "True\n"
     ]
    }
   ],
   "source": [
    "print(profile.is_business_account)"
   ]
  },
  {
   "cell_type": "code",
   "execution_count": 12,
   "metadata": {},
   "outputs": [
    {
     "name": "stdout",
     "output_type": "stream",
     "text": [
      "True\n"
     ]
    }
   ],
   "source": [
    "print(profile.is_verified)"
   ]
  },
  {
   "cell_type": "code",
   "execution_count": 13,
   "metadata": {},
   "outputs": [
    {
     "name": "stdout",
     "output_type": "stream",
     "text": [
      "427553890\n"
     ]
    }
   ],
   "source": [
    "print(profile.userid)"
   ]
  },
  {
   "cell_type": "code",
   "execution_count": 14,
   "metadata": {},
   "outputs": [],
   "source": [
    "# Fetch posts from a particular period\n",
    "\n",
    "from datetime import datetime\n",
    "\n",
    "posts = instaloader.Hashtag.from_name(L.context, \"photography\").get_posts()\n",
    "\n",
    "SINCE = datetime(2020, 10, 1)  # inclusive\n",
    "UNTIL = datetime(2021, 10, 1)  # not inclusive"
   ]
  },
  {
   "cell_type": "code",
   "execution_count": 15,
   "metadata": {},
   "outputs": [
    {
     "name": "stdout",
     "output_type": "stream",
     "text": [
      "2021-09-25 06:38:08\n",
      "Checking <Post CUPB2dfsyyP>\n",
      "2021-09-25 06:38:08\n",
      "#photography/2021-09-25_06-38-08_UTC.jpg [Crestadelpadon#trentino#itali…] \n",
      "<Post CUPB2dfsyyP>\n",
      "2021-09-25 06:38:08\n",
      "Checking <Post CUPB2cllw1S>\n",
      "2021-09-25 06:38:08\n",
      "#photography/2021-09-25_06-38-08_UTC.jpg exists [Crestadelpadon#trentino#itali…] updated [বাগিচা তার, বোগেনভেলিয়ার   ব…] \n",
      "<Post CUPB2cllw1S>\n",
      "2021-09-25 06:38:08\n",
      "Checking <Post CUPB2BrsRVI>\n",
      "2021-09-25 06:38:08\n",
      "#photography/2021-09-25_06-38-08_UTC.jpg exists [বাগিচা তার, বোগেনভেলিয়ার   ব…] updated [Not your babe, babe 🤠⠀ Model:…] \n",
      "<Post CUPB2BrsRVI>\n",
      "2021-09-25 06:38:07\n",
      "Checking <Post CUPB2Vwjzm1>\n",
      "2021-09-25 06:38:07\n",
      "#photography/2021-09-25_06-38-07_UTC_1.jpg #photography/2021-09-25_06-38-07_UTC_2.jpg [✨The Gang✨  Color Grade edit …] \n",
      "<Post CUPB2Vwjzm1>\n",
      "2021-09-25 06:38:06\n",
      "Checking <Post CUPB2QYFZAh>\n",
      "2021-09-25 06:38:06\n",
      "#photography/2021-09-25_06-38-06_UTC.jpg [Enjoy our work 😊😜 𝘾𝙡𝙞𝙘𝙠 𝙗𝙮 :@…] \n",
      "<Post CUPB2QYFZAh>\n",
      "2021-09-25 06:38:06\n",
      "Checking <Post CUPB2QHNTWs>\n",
      "2021-09-25 06:38:06\n",
      "#photography/2021-09-25_06-38-06_UTC.jpg exists [Enjoy our work 😊😜 𝘾𝙡𝙞𝙘𝙠 𝙗𝙮 :@…] updated [🥰🙈❤️  #cutegirl #cute #girl #…] \n",
      "<Post CUPB2QHNTWs>\n",
      "2021-09-25 06:38:05\n",
      "Checking <Post CUPB2Hesmwl>\n",
      "2021-09-25 06:38:05\n",
      "\n",
      "HTTP redirect from https://www.instagram.com/graphql/query to https://www.instagram.com/accounts/login/\n"
     ]
    },
    {
     "ename": "LoginRequiredException",
     "evalue": "Redirected to login page. Use --login.",
     "output_type": "error",
     "traceback": [
      "\u001b[0;31m---------------------------------------------------------------------------\u001b[0m",
      "\u001b[0;31mKeyError\u001b[0m                                  Traceback (most recent call last)",
      "\u001b[0;32m~/.local/lib/python3.8/site-packages/instaloader/structures.py\u001b[0m in \u001b[0;36m_field\u001b[0;34m(self, *keys)\u001b[0m\n\u001b[1;32m    185\u001b[0m             \u001b[0;32mfor\u001b[0m \u001b[0mkey\u001b[0m \u001b[0;32min\u001b[0m \u001b[0mkeys\u001b[0m\u001b[0;34m:\u001b[0m\u001b[0;34m\u001b[0m\u001b[0;34m\u001b[0m\u001b[0m\n\u001b[0;32m--> 186\u001b[0;31m                 \u001b[0md\u001b[0m \u001b[0;34m=\u001b[0m \u001b[0md\u001b[0m\u001b[0;34m[\u001b[0m\u001b[0mkey\u001b[0m\u001b[0;34m]\u001b[0m\u001b[0;34m\u001b[0m\u001b[0;34m\u001b[0m\u001b[0m\n\u001b[0m\u001b[1;32m    187\u001b[0m             \u001b[0;32mreturn\u001b[0m \u001b[0md\u001b[0m\u001b[0;34m\u001b[0m\u001b[0;34m\u001b[0m\u001b[0m\n",
      "\u001b[0;31mKeyError\u001b[0m: 'edge_sidecar_to_children'",
      "\nDuring handling of the above exception, another exception occurred:\n",
      "\u001b[0;31mLoginRequiredException\u001b[0m                    Traceback (most recent call last)",
      "\u001b[0;32m<ipython-input-15-f521a5b72bc6>\u001b[0m in \u001b[0;36m<module>\u001b[0;34m\u001b[0m\n\u001b[1;32m     16\u001b[0m     \u001b[0;32melse\u001b[0m\u001b[0;34m:\u001b[0m\u001b[0;34m\u001b[0m\u001b[0;34m\u001b[0m\u001b[0m\n\u001b[1;32m     17\u001b[0m         \u001b[0mprint\u001b[0m\u001b[0;34m(\u001b[0m\u001b[0mpostdate\u001b[0m\u001b[0;34m)\u001b[0m\u001b[0;34m\u001b[0m\u001b[0;34m\u001b[0m\u001b[0m\n\u001b[0;32m---> 18\u001b[0;31m         \u001b[0mL\u001b[0m\u001b[0;34m.\u001b[0m\u001b[0mdownload_post\u001b[0m\u001b[0;34m(\u001b[0m\u001b[0mpost\u001b[0m\u001b[0;34m,\u001b[0m \u001b[0;34m\"#photography\"\u001b[0m\u001b[0;34m)\u001b[0m\u001b[0;34m\u001b[0m\u001b[0;34m\u001b[0m\u001b[0m\n\u001b[0m\u001b[1;32m     19\u001b[0m         \u001b[0min_count\u001b[0m \u001b[0;34m+=\u001b[0m \u001b[0;36m1\u001b[0m\u001b[0;34m\u001b[0m\u001b[0;34m\u001b[0m\u001b[0m\n\u001b[1;32m     20\u001b[0m         \u001b[0mprint\u001b[0m\u001b[0;34m(\u001b[0m\u001b[0mpost\u001b[0m\u001b[0;34m)\u001b[0m\u001b[0;34m\u001b[0m\u001b[0;34m\u001b[0m\u001b[0m\n",
      "\u001b[0;32m~/.local/lib/python3.8/site-packages/instaloader/instaloader.py\u001b[0m in \u001b[0;36mdownload_post\u001b[0;34m(self, post, target)\u001b[0m\n\u001b[1;32m    669\u001b[0m                         filename_template, enumerate(\n\u001b[1;32m    670\u001b[0m                             (post.get_is_videos()[i]\n\u001b[0;32m--> 671\u001b[0;31m                              for i in range(self.slide_start % post.mediacount, self.slide_end % post.mediacount + 1)),\n\u001b[0m\u001b[1;32m    672\u001b[0m                             \u001b[0mstart\u001b[0m\u001b[0;34m=\u001b[0m\u001b[0mself\u001b[0m\u001b[0;34m.\u001b[0m\u001b[0mslide_start\u001b[0m \u001b[0;34m%\u001b[0m \u001b[0mpost\u001b[0m\u001b[0;34m.\u001b[0m\u001b[0mmediacount\u001b[0m \u001b[0;34m+\u001b[0m \u001b[0;36m1\u001b[0m\u001b[0;34m\u001b[0m\u001b[0;34m\u001b[0m\u001b[0m\n\u001b[1;32m    673\u001b[0m                         )\n",
      "\u001b[0;32m~/.local/lib/python3.8/site-packages/instaloader/structures.py\u001b[0m in \u001b[0;36mmediacount\u001b[0;34m(self)\u001b[0m\n\u001b[1;32m    272\u001b[0m         \"\"\"\n\u001b[1;32m    273\u001b[0m         \u001b[0;32mif\u001b[0m \u001b[0mself\u001b[0m\u001b[0;34m.\u001b[0m\u001b[0mtypename\u001b[0m \u001b[0;34m==\u001b[0m \u001b[0;34m'GraphSidecar'\u001b[0m\u001b[0;34m:\u001b[0m\u001b[0;34m\u001b[0m\u001b[0;34m\u001b[0m\u001b[0m\n\u001b[0;32m--> 274\u001b[0;31m             \u001b[0medges\u001b[0m \u001b[0;34m=\u001b[0m \u001b[0mself\u001b[0m\u001b[0;34m.\u001b[0m\u001b[0m_field\u001b[0m\u001b[0;34m(\u001b[0m\u001b[0;34m'edge_sidecar_to_children'\u001b[0m\u001b[0;34m,\u001b[0m \u001b[0;34m'edges'\u001b[0m\u001b[0;34m)\u001b[0m\u001b[0;34m\u001b[0m\u001b[0;34m\u001b[0m\u001b[0m\n\u001b[0m\u001b[1;32m    275\u001b[0m             \u001b[0;32mreturn\u001b[0m \u001b[0mlen\u001b[0m\u001b[0;34m(\u001b[0m\u001b[0medges\u001b[0m\u001b[0;34m)\u001b[0m\u001b[0;34m\u001b[0m\u001b[0;34m\u001b[0m\u001b[0m\n\u001b[1;32m    276\u001b[0m         \u001b[0;32mreturn\u001b[0m \u001b[0;36m1\u001b[0m\u001b[0;34m\u001b[0m\u001b[0;34m\u001b[0m\u001b[0m\n",
      "\u001b[0;32m~/.local/lib/python3.8/site-packages/instaloader/structures.py\u001b[0m in \u001b[0;36m_field\u001b[0;34m(self, *keys)\u001b[0m\n\u001b[1;32m    187\u001b[0m             \u001b[0;32mreturn\u001b[0m \u001b[0md\u001b[0m\u001b[0;34m\u001b[0m\u001b[0;34m\u001b[0m\u001b[0m\n\u001b[1;32m    188\u001b[0m         \u001b[0;32mexcept\u001b[0m \u001b[0mKeyError\u001b[0m\u001b[0;34m:\u001b[0m\u001b[0;34m\u001b[0m\u001b[0;34m\u001b[0m\u001b[0m\n\u001b[0;32m--> 189\u001b[0;31m             \u001b[0md\u001b[0m \u001b[0;34m=\u001b[0m \u001b[0mself\u001b[0m\u001b[0;34m.\u001b[0m\u001b[0m_full_metadata\u001b[0m\u001b[0;34m\u001b[0m\u001b[0;34m\u001b[0m\u001b[0m\n\u001b[0m\u001b[1;32m    190\u001b[0m             \u001b[0;32mfor\u001b[0m \u001b[0mkey\u001b[0m \u001b[0;32min\u001b[0m \u001b[0mkeys\u001b[0m\u001b[0;34m:\u001b[0m\u001b[0;34m\u001b[0m\u001b[0;34m\u001b[0m\u001b[0m\n\u001b[1;32m    191\u001b[0m                 \u001b[0md\u001b[0m \u001b[0;34m=\u001b[0m \u001b[0md\u001b[0m\u001b[0;34m[\u001b[0m\u001b[0mkey\u001b[0m\u001b[0;34m]\u001b[0m\u001b[0;34m\u001b[0m\u001b[0;34m\u001b[0m\u001b[0m\n",
      "\u001b[0;32m~/.local/lib/python3.8/site-packages/instaloader/structures.py\u001b[0m in \u001b[0;36m_full_metadata\u001b[0;34m(self)\u001b[0m\n\u001b[1;32m    164\u001b[0m     \u001b[0;34m@\u001b[0m\u001b[0mproperty\u001b[0m\u001b[0;34m\u001b[0m\u001b[0;34m\u001b[0m\u001b[0m\n\u001b[1;32m    165\u001b[0m     \u001b[0;32mdef\u001b[0m \u001b[0m_full_metadata\u001b[0m\u001b[0;34m(\u001b[0m\u001b[0mself\u001b[0m\u001b[0;34m)\u001b[0m \u001b[0;34m->\u001b[0m \u001b[0mDict\u001b[0m\u001b[0;34m[\u001b[0m\u001b[0mstr\u001b[0m\u001b[0;34m,\u001b[0m \u001b[0mAny\u001b[0m\u001b[0;34m]\u001b[0m\u001b[0;34m:\u001b[0m\u001b[0;34m\u001b[0m\u001b[0;34m\u001b[0m\u001b[0m\n\u001b[0;32m--> 166\u001b[0;31m         \u001b[0mself\u001b[0m\u001b[0;34m.\u001b[0m\u001b[0m_obtain_metadata\u001b[0m\u001b[0;34m(\u001b[0m\u001b[0;34m)\u001b[0m\u001b[0;34m\u001b[0m\u001b[0;34m\u001b[0m\u001b[0m\n\u001b[0m\u001b[1;32m    167\u001b[0m         \u001b[0;32massert\u001b[0m \u001b[0mself\u001b[0m\u001b[0;34m.\u001b[0m\u001b[0m_full_metadata_dict\u001b[0m \u001b[0;32mis\u001b[0m \u001b[0;32mnot\u001b[0m \u001b[0;32mNone\u001b[0m\u001b[0;34m\u001b[0m\u001b[0;34m\u001b[0m\u001b[0m\n\u001b[1;32m    168\u001b[0m         \u001b[0;32mreturn\u001b[0m \u001b[0mself\u001b[0m\u001b[0;34m.\u001b[0m\u001b[0m_full_metadata_dict\u001b[0m\u001b[0;34m\u001b[0m\u001b[0;34m\u001b[0m\u001b[0m\n",
      "\u001b[0;32m~/.local/lib/python3.8/site-packages/instaloader/structures.py\u001b[0m in \u001b[0;36m_obtain_metadata\u001b[0;34m(self)\u001b[0m\n\u001b[1;32m    151\u001b[0m     \u001b[0;32mdef\u001b[0m \u001b[0m_obtain_metadata\u001b[0m\u001b[0;34m(\u001b[0m\u001b[0mself\u001b[0m\u001b[0;34m)\u001b[0m\u001b[0;34m:\u001b[0m\u001b[0;34m\u001b[0m\u001b[0;34m\u001b[0m\u001b[0m\n\u001b[1;32m    152\u001b[0m         \u001b[0;32mif\u001b[0m \u001b[0;32mnot\u001b[0m \u001b[0mself\u001b[0m\u001b[0;34m.\u001b[0m\u001b[0m_full_metadata_dict\u001b[0m\u001b[0;34m:\u001b[0m\u001b[0;34m\u001b[0m\u001b[0;34m\u001b[0m\u001b[0m\n\u001b[0;32m--> 153\u001b[0;31m             pic_json = self._context.graphql_query(\n\u001b[0m\u001b[1;32m    154\u001b[0m                 \u001b[0;34m'2b0673e0dc4580674a88d426fe00ea90'\u001b[0m\u001b[0;34m,\u001b[0m\u001b[0;34m\u001b[0m\u001b[0;34m\u001b[0m\u001b[0m\n\u001b[1;32m    155\u001b[0m                 \u001b[0;34m{\u001b[0m\u001b[0;34m'shortcode'\u001b[0m\u001b[0;34m:\u001b[0m \u001b[0mself\u001b[0m\u001b[0;34m.\u001b[0m\u001b[0mshortcode\u001b[0m\u001b[0;34m}\u001b[0m\u001b[0;34m\u001b[0m\u001b[0;34m\u001b[0m\u001b[0m\n",
      "\u001b[0;32m~/.local/lib/python3.8/site-packages/instaloader/instaloadercontext.py\u001b[0m in \u001b[0;36mgraphql_query\u001b[0;34m(self, query_hash, variables, referer, rhx_gis)\u001b[0m\n\u001b[1;32m    426\u001b[0m                 \u001b[0mtmpsession\u001b[0m\u001b[0;34m.\u001b[0m\u001b[0mheaders\u001b[0m\u001b[0;34m[\u001b[0m\u001b[0;34m'x-instagram-gis'\u001b[0m\u001b[0;34m]\u001b[0m \u001b[0;34m=\u001b[0m \u001b[0mx_instagram_gis\u001b[0m\u001b[0;34m\u001b[0m\u001b[0;34m\u001b[0m\u001b[0m\n\u001b[1;32m    427\u001b[0m \u001b[0;34m\u001b[0m\u001b[0m\n\u001b[0;32m--> 428\u001b[0;31m             resp_json = self.get_json('graphql/query',\n\u001b[0m\u001b[1;32m    429\u001b[0m                                       params={'query_hash': query_hash,\n\u001b[1;32m    430\u001b[0m                                               'variables': variables_json},\n",
      "\u001b[0;32m~/.local/lib/python3.8/site-packages/instaloader/instaloadercontext.py\u001b[0m in \u001b[0;36mget_json\u001b[0;34m(self, path, params, host, session, _attempt)\u001b[0m\n\u001b[1;32m    334\u001b[0m                 \u001b[0;32mif\u001b[0m \u001b[0mredirect_url\u001b[0m\u001b[0;34m.\u001b[0m\u001b[0mstartswith\u001b[0m\u001b[0;34m(\u001b[0m\u001b[0;34m'https://www.instagram.com/accounts/login'\u001b[0m\u001b[0;34m)\u001b[0m\u001b[0;34m:\u001b[0m\u001b[0;34m\u001b[0m\u001b[0;34m\u001b[0m\u001b[0m\n\u001b[1;32m    335\u001b[0m                     \u001b[0;32mif\u001b[0m \u001b[0;32mnot\u001b[0m \u001b[0mself\u001b[0m\u001b[0;34m.\u001b[0m\u001b[0mis_logged_in\u001b[0m\u001b[0;34m:\u001b[0m\u001b[0;34m\u001b[0m\u001b[0;34m\u001b[0m\u001b[0m\n\u001b[0;32m--> 336\u001b[0;31m                         \u001b[0;32mraise\u001b[0m \u001b[0mLoginRequiredException\u001b[0m\u001b[0;34m(\u001b[0m\u001b[0;34m\"Redirected to login page. Use --login.\"\u001b[0m\u001b[0;34m)\u001b[0m\u001b[0;34m\u001b[0m\u001b[0;34m\u001b[0m\u001b[0m\n\u001b[0m\u001b[1;32m    337\u001b[0m                     \u001b[0;31m# alternate rate limit exceeded behavior\u001b[0m\u001b[0;34m\u001b[0m\u001b[0;34m\u001b[0m\u001b[0;34m\u001b[0m\u001b[0m\n\u001b[1;32m    338\u001b[0m                     \u001b[0;32mraise\u001b[0m \u001b[0mTooManyRequestsException\u001b[0m\u001b[0;34m(\u001b[0m\u001b[0;34m\"Redirected to login\"\u001b[0m\u001b[0;34m)\u001b[0m\u001b[0;34m\u001b[0m\u001b[0;34m\u001b[0m\u001b[0m\n",
      "\u001b[0;31mLoginRequiredException\u001b[0m: Redirected to login page. Use --login."
     ]
    }
   ],
   "source": [
    "maxPosts = 10\n",
    "in_count = 0\n",
    "\n",
    "for post in posts:\n",
    "    postdate = post.date\n",
    "    print(postdate)\n",
    "    \n",
    "    maxPosts -= 1\n",
    "    if maxPosts == 0:\n",
    "        break\n",
    "    \n",
    "    print('Checking ' + str(post))\n",
    "    if postdate >= UNTIL or postdate < SINCE:\n",
    "        continue\n",
    "        \n",
    "    else:\n",
    "        print(postdate)\n",
    "        L.download_post(post, \"#photography\")\n",
    "        in_count += 1\n",
    "        print(post)\n",
    "        \n",
    "print('Number of Posts in period: ' + str(in_count))"
   ]
  },
  {
   "cell_type": "code",
   "execution_count": null,
   "metadata": {},
   "outputs": [],
   "source": [
    "# That's it"
   ]
  }
 ],
 "metadata": {
  "kernelspec": {
   "display_name": "Python 3",
   "language": "python",
   "name": "python3"
  },
  "language_info": {
   "codemirror_mode": {
    "name": "ipython",
    "version": 3
   },
   "file_extension": ".py",
   "mimetype": "text/x-python",
   "name": "python",
   "nbconvert_exporter": "python",
   "pygments_lexer": "ipython3",
   "version": "3.8.10"
  }
 },
 "nbformat": 4,
 "nbformat_minor": 4
}
