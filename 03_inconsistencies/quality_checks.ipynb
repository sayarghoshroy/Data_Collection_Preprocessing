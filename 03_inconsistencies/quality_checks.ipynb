{
 "cells": [
  {
   "cell_type": "code",
   "execution_count": 1,
   "metadata": {},
   "outputs": [],
   "source": [
    "import json\n",
    "import csv\n",
    "import pandas as pd\n",
    "import numpy as np"
   ]
  },
  {
   "cell_type": "code",
   "execution_count": 2,
   "metadata": {},
   "outputs": [],
   "source": [
    "# Reading a dataset containing indices and values\n",
    "\n",
    "with open('plain_values.csv', 'r+') as f:\n",
    "    values_data = pd.read_csv(f, index_col = False)"
   ]
  },
  {
   "cell_type": "code",
   "execution_count": 3,
   "metadata": {},
   "outputs": [
    {
     "data": {
      "text/html": [
       "<div>\n",
       "<style scoped>\n",
       "    .dataframe tbody tr th:only-of-type {\n",
       "        vertical-align: middle;\n",
       "    }\n",
       "\n",
       "    .dataframe tbody tr th {\n",
       "        vertical-align: top;\n",
       "    }\n",
       "\n",
       "    .dataframe thead th {\n",
       "        text-align: right;\n",
       "    }\n",
       "</style>\n",
       "<table border=\"1\" class=\"dataframe\">\n",
       "  <thead>\n",
       "    <tr style=\"text-align: right;\">\n",
       "      <th></th>\n",
       "      <th>Index</th>\n",
       "      <th>Value</th>\n",
       "    </tr>\n",
       "  </thead>\n",
       "  <tbody>\n",
       "    <tr>\n",
       "      <th>0</th>\n",
       "      <td>1</td>\n",
       "      <td>20.4624</td>\n",
       "    </tr>\n",
       "    <tr>\n",
       "      <th>1</th>\n",
       "      <td>2</td>\n",
       "      <td>5.6000</td>\n",
       "    </tr>\n",
       "    <tr>\n",
       "      <th>2</th>\n",
       "      <td>3</td>\n",
       "      <td>6.7810</td>\n",
       "    </tr>\n",
       "    <tr>\n",
       "      <th>3</th>\n",
       "      <td>4</td>\n",
       "      <td>18.4400</td>\n",
       "    </tr>\n",
       "    <tr>\n",
       "      <th>4</th>\n",
       "      <td>4</td>\n",
       "      <td>12.4400</td>\n",
       "    </tr>\n",
       "    <tr>\n",
       "      <th>5</th>\n",
       "      <td>5</td>\n",
       "      <td>2.5000</td>\n",
       "    </tr>\n",
       "    <tr>\n",
       "      <th>6</th>\n",
       "      <td>6</td>\n",
       "      <td>2.2000</td>\n",
       "    </tr>\n",
       "    <tr>\n",
       "      <th>7</th>\n",
       "      <td>7</td>\n",
       "      <td>3.0000</td>\n",
       "    </tr>\n",
       "    <tr>\n",
       "      <th>8</th>\n",
       "      <td>8</td>\n",
       "      <td>2.0000</td>\n",
       "    </tr>\n",
       "    <tr>\n",
       "      <th>9</th>\n",
       "      <td>9</td>\n",
       "      <td>16.6000</td>\n",
       "    </tr>\n",
       "    <tr>\n",
       "      <th>10</th>\n",
       "      <td>10</td>\n",
       "      <td>7.8923</td>\n",
       "    </tr>\n",
       "  </tbody>\n",
       "</table>\n",
       "</div>"
      ],
      "text/plain": [
       "    Index    Value\n",
       "0       1  20.4624\n",
       "1       2   5.6000\n",
       "2       3   6.7810\n",
       "3       4  18.4400\n",
       "4       4  12.4400\n",
       "5       5   2.5000\n",
       "6       6   2.2000\n",
       "7       7   3.0000\n",
       "8       8   2.0000\n",
       "9       9  16.6000\n",
       "10     10   7.8923"
      ]
     },
     "execution_count": 3,
     "metadata": {},
     "output_type": "execute_result"
    }
   ],
   "source": [
    "# Viewing the dataframe\n",
    "values_data"
   ]
  },
  {
   "cell_type": "code",
   "execution_count": 4,
   "metadata": {},
   "outputs": [
    {
     "name": "stdout",
     "output_type": "stream",
     "text": [
      "values_data:['Index,Value\\n', '1,20.4624\\n', '2,5.6\\n', '3,6.7810\\n', '4,18.44\\n', '4,12.44\\n', '5,2.5\\n', '6,2.2\\n', '7,3.0\\n', '8,2\\n', '9,16.6\\n', '10,7.8923\\n']\n",
      "\n",
      "data: [['Index', 'Value'], ['1', '20.4624'], ['2', '5.6'], ['3', '6.7810'], ['4', '18.44'], ['4', '12.44'], ['5', '2.5'], ['6', '2.2'], ['7', '3.0'], ['8', '2'], ['9', '16.6'], ['10', '7.8923']]\n",
      "\n",
      "header: ['Index' 'Value']\n",
      "data[0]: ['1' '20.4624']\n"
     ]
    }
   ],
   "source": [
    "with open('plain_values.csv', 'r+') as f:\n",
    "    values_data = f.readlines()\n",
    "    \n",
    "print('values_data:' + str(values_data))\n",
    "\n",
    "data = []\n",
    "for item in values_data:\n",
    "    store = item.strip().split(',')\n",
    "    data.append(store)\n",
    "    \n",
    "print()\n",
    "print('data: ' + str(data))\n",
    "\n",
    "data = np.asarray(data)\n",
    "\n",
    "header = data[0, :]\n",
    "data = data[1:, :]\n",
    "\n",
    "print()\n",
    "print('header: ' + str(header))\n",
    "print('data[0]: ' + str(data[0]))"
   ]
  },
  {
   "cell_type": "code",
   "execution_count": 5,
   "metadata": {},
   "outputs": [],
   "source": [
    "def check_index(index_column, view = True):\n",
    "    \n",
    "    list_index = np.ndarray.tolist(index_column)\n",
    "    set_index = set(list_index)\n",
    "    \n",
    "    if view == True:\n",
    "        print('Number of indices: ' + str(len(list_index)))\n",
    "        print('Number of unique indices: ' + str(len(set_index)))\n",
    "    \n",
    "    return len(list_index) == len(set_index)\n",
    "\n",
    "def get_least_count(value_string):\n",
    "    if '.' in value_string:\n",
    "        return len(value_string.split('.')[1])\n",
    "    \n",
    "    return 0\n",
    "    \n",
    "from statistics import mode\n",
    "\n",
    "def get_column_LC(column):\n",
    "    column = np.ndarray.tolist(column)\n",
    "    LCs = []\n",
    "    \n",
    "    for value_string in column:\n",
    "        LC = get_least_count(value_string)\n",
    "        LCs.append(LC)\n",
    "    \n",
    "    return mode(LCs)"
   ]
  },
  {
   "cell_type": "code",
   "execution_count": 6,
   "metadata": {},
   "outputs": [
    {
     "name": "stdout",
     "output_type": "stream",
     "text": [
      "Number of indices: 11\n",
      "Number of unique indices: 10\n",
      "Most Common Least Count: 1 places of decimal\n"
     ]
    }
   ],
   "source": [
    "# Analyzing\n",
    "\n",
    "indices = data[:, 0]\n",
    "values = data[:, 1]\n",
    "\n",
    "is_valid_index = check_index(indices)\n",
    "least_count = get_column_LC(values)\n",
    "\n",
    "print('Most Common Least Count: ' + str(least_count) + ' places of decimal')"
   ]
  },
  {
   "cell_type": "code",
   "execution_count": 7,
   "metadata": {},
   "outputs": [],
   "source": [
    "# Rounding to least_count places of decimal\n",
    "\n",
    "def get_format_code(least_count):\n",
    "    return \"{:.\" + str(least_count) + \"f}\"\n",
    "\n",
    "def round_up(column, least_count):\n",
    "    column = np.ndarray.tolist(column)\n",
    "    \n",
    "    rounded = []\n",
    "    \n",
    "    for value_string in column:\n",
    "        value = float(value_string)\n",
    "        \n",
    "        value = np.round(value, least_count)\n",
    "        formatted_float = get_format_code(least_count).format(value)\n",
    "        \n",
    "        rounded.append(formatted_float)\n",
    "        \n",
    "    return rounded"
   ]
  },
  {
   "cell_type": "code",
   "execution_count": 8,
   "metadata": {},
   "outputs": [
    {
     "data": {
      "text/plain": [
       "'{:.1f}'"
      ]
     },
     "execution_count": 8,
     "metadata": {},
     "output_type": "execute_result"
    }
   ],
   "source": [
    "get_format_code(1)"
   ]
  },
  {
   "cell_type": "code",
   "execution_count": 9,
   "metadata": {},
   "outputs": [
    {
     "name": "stdout",
     "output_type": "stream",
     "text": [
      "get_format_code(least_count): {:.1f}\n",
      "rounded_up: ['20.5', '5.6', '6.8', '18.4', '12.4', '2.5', '2.2', '3.0', '2.0', '16.6', '7.9']\n"
     ]
    }
   ],
   "source": [
    "# Behavior of get_format_code\n",
    "print('get_format_code(least_count): ' + get_format_code(least_count))\n",
    "\n",
    "rounded_up = round_up(values, least_count)\n",
    "print('rounded_up: ' + str(rounded_up))"
   ]
  },
  {
   "cell_type": "code",
   "execution_count": 10,
   "metadata": {},
   "outputs": [
    {
     "name": "stdout",
     "output_type": "stream",
     "text": [
      "get_ranges(values)[0: 3]: ['20 - 25', '5 - 10', '5 - 10']\n"
     ]
    }
   ],
   "source": [
    "# Mapping to a range instead\n",
    "\n",
    "def give_range(value, jump = 5, start = 0):  \n",
    "    value = int(value - start)\n",
    "    times = int(value / jump)\n",
    "    \n",
    "    lower = start + jump * times\n",
    "    upper = lower + jump\n",
    "    \n",
    "    return str(lower) + ' - ' + str(upper)\n",
    "\n",
    "def get_ranges(column, jump = 5, start = 0):\n",
    "    column = np.ndarray.tolist(column)\n",
    "    ranges = []\n",
    "    \n",
    "    for value_string in column:\n",
    "        value = float(value_string)\n",
    "        \n",
    "        ranges.append(give_range(value))\n",
    "        \n",
    "    return ranges\n",
    "\n",
    "ranged_up = get_ranges(values)\n",
    "print('get_ranges(values)[0: 3]: ' + str(ranged_up[0: 3]))"
   ]
  },
  {
   "cell_type": "code",
   "execution_count": 11,
   "metadata": {},
   "outputs": [
    {
     "data": {
      "text/html": [
       "<div>\n",
       "<style scoped>\n",
       "    .dataframe tbody tr th:only-of-type {\n",
       "        vertical-align: middle;\n",
       "    }\n",
       "\n",
       "    .dataframe tbody tr th {\n",
       "        vertical-align: top;\n",
       "    }\n",
       "\n",
       "    .dataframe thead th {\n",
       "        text-align: right;\n",
       "    }\n",
       "</style>\n",
       "<table border=\"1\" class=\"dataframe\">\n",
       "  <thead>\n",
       "    <tr style=\"text-align: right;\">\n",
       "      <th></th>\n",
       "      <th>Value</th>\n",
       "    </tr>\n",
       "  </thead>\n",
       "  <tbody>\n",
       "    <tr>\n",
       "      <th>0</th>\n",
       "      <td>20 - 25</td>\n",
       "    </tr>\n",
       "    <tr>\n",
       "      <th>1</th>\n",
       "      <td>5 - 10</td>\n",
       "    </tr>\n",
       "    <tr>\n",
       "      <th>2</th>\n",
       "      <td>5 - 10</td>\n",
       "    </tr>\n",
       "    <tr>\n",
       "      <th>3</th>\n",
       "      <td>15 - 20</td>\n",
       "    </tr>\n",
       "    <tr>\n",
       "      <th>4</th>\n",
       "      <td>10 - 15</td>\n",
       "    </tr>\n",
       "    <tr>\n",
       "      <th>5</th>\n",
       "      <td>0 - 5</td>\n",
       "    </tr>\n",
       "    <tr>\n",
       "      <th>6</th>\n",
       "      <td>0 - 5</td>\n",
       "    </tr>\n",
       "    <tr>\n",
       "      <th>7</th>\n",
       "      <td>0 - 5</td>\n",
       "    </tr>\n",
       "    <tr>\n",
       "      <th>8</th>\n",
       "      <td>0 - 5</td>\n",
       "    </tr>\n",
       "    <tr>\n",
       "      <th>9</th>\n",
       "      <td>15 - 20</td>\n",
       "    </tr>\n",
       "    <tr>\n",
       "      <th>10</th>\n",
       "      <td>5 - 10</td>\n",
       "    </tr>\n",
       "  </tbody>\n",
       "</table>\n",
       "</div>"
      ],
      "text/plain": [
       "      Value\n",
       "0   20 - 25\n",
       "1    5 - 10\n",
       "2    5 - 10\n",
       "3   15 - 20\n",
       "4   10 - 15\n",
       "5     0 - 5\n",
       "6     0 - 5\n",
       "7     0 - 5\n",
       "8     0 - 5\n",
       "9   15 - 20\n",
       "10   5 - 10"
      ]
     },
     "execution_count": 11,
     "metadata": {},
     "output_type": "execute_result"
    }
   ],
   "source": [
    "# Using cleaned data\n",
    "\n",
    "rounded_frame = pd.DataFrame(rounded_up, columns = ['Value'])\n",
    "range_frame = pd.DataFrame(ranged_up, columns = ['Value'])\n",
    "\n",
    "rounded_frame.to_csv('rounded_values.csv')\n",
    "range_frame.to_csv('ranged_values.csv')\n",
    "\n",
    "# Viewing range_frame\n",
    "range_frame"
   ]
  },
  {
   "cell_type": "code",
   "execution_count": 12,
   "metadata": {},
   "outputs": [
    {
     "data": {
      "text/html": [
       "<div>\n",
       "<style scoped>\n",
       "    .dataframe tbody tr th:only-of-type {\n",
       "        vertical-align: middle;\n",
       "    }\n",
       "\n",
       "    .dataframe tbody tr th {\n",
       "        vertical-align: top;\n",
       "    }\n",
       "\n",
       "    .dataframe thead th {\n",
       "        text-align: right;\n",
       "    }\n",
       "</style>\n",
       "<table border=\"1\" class=\"dataframe\">\n",
       "  <thead>\n",
       "    <tr style=\"text-align: right;\">\n",
       "      <th></th>\n",
       "      <th>Index</th>\n",
       "      <th>Recordings</th>\n",
       "    </tr>\n",
       "  </thead>\n",
       "  <tbody>\n",
       "    <tr>\n",
       "      <th>0</th>\n",
       "      <td>1</td>\n",
       "      <td>[10.1, 5.2, 9.7]</td>\n",
       "    </tr>\n",
       "    <tr>\n",
       "      <th>1</th>\n",
       "      <td>2</td>\n",
       "      <td>[8.9, 7.4, 7.5]</td>\n",
       "    </tr>\n",
       "    <tr>\n",
       "      <th>2</th>\n",
       "      <td>3</td>\n",
       "      <td>[9.2, 6.3, 6.9]</td>\n",
       "    </tr>\n",
       "    <tr>\n",
       "      <th>3</th>\n",
       "      <td>4</td>\n",
       "      <td>[10.2, 6.7, 6.8, 8.0]</td>\n",
       "    </tr>\n",
       "    <tr>\n",
       "      <th>4</th>\n",
       "      <td>5</td>\n",
       "      <td>[6.6, 5.4, 9.5]</td>\n",
       "    </tr>\n",
       "  </tbody>\n",
       "</table>\n",
       "</div>"
      ],
      "text/plain": [
       "   Index             Recordings\n",
       "0      1       [10.1, 5.2, 9.7]\n",
       "1      2        [8.9, 7.4, 7.5]\n",
       "2      3        [9.2, 6.3, 6.9]\n",
       "3      4  [10.2, 6.7, 6.8, 8.0]\n",
       "4      5        [6.6, 5.4, 9.5]"
      ]
     },
     "execution_count": 12,
     "metadata": {},
     "output_type": "execute_result"
    }
   ],
   "source": [
    "# Inconsistencies\n",
    "\n",
    "with open('lists_data.csv', 'r+') as f:\n",
    "    lists_data = pd.read_csv(f, index_col = False)\n",
    "\n",
    "# Displaying lists_data\n",
    "lists_data"
   ]
  },
  {
   "cell_type": "code",
   "execution_count": 13,
   "metadata": {},
   "outputs": [
    {
     "name": "stdout",
     "output_type": "stream",
     "text": [
      "<class 'str'>\n",
      "<class 'list'>\n",
      "<class 'str'>\n",
      "<class 'list'>\n",
      "<class 'str'>\n",
      "<class 'list'>\n",
      "<class 'str'>\n",
      "<class 'list'>\n",
      "<class 'str'>\n",
      "<class 'list'>\n",
      "Extracted list of lists: \n",
      "[[10.1, 5.2, 9.7], [8.9, 7.4, 7.5], [9.2, 6.3, 6.9], [10.2, 6.7, 6.8, 8.0], [6.6, 5.4, 9.5]]\n"
     ]
    }
   ],
   "source": [
    "indices = lists_data.Index\n",
    "data = lists_data.Recordings.tolist()\n",
    "\n",
    "lists = []\n",
    "view = True\n",
    "\n",
    "for item in data:\n",
    "    if view:\n",
    "        print(type(item))\n",
    "    \n",
    "    # Require lists\n",
    "    records = json.loads(item)\n",
    "    \n",
    "    if view:\n",
    "        print(type(records))\n",
    "    \n",
    "    lists.append(records)\n",
    "    \n",
    "print('Extracted list of lists: ')\n",
    "print(lists)"
   ]
  },
  {
   "cell_type": "code",
   "execution_count": 14,
   "metadata": {},
   "outputs": [
    {
     "name": "stdout",
     "output_type": "stream",
     "text": [
      "Length Consistency is Preserved: False\n",
      "View: {3: [0, 1, 2, 4], 4: [3]}\n"
     ]
    }
   ],
   "source": [
    "def get_lengths(lists):\n",
    "    # Returns a map from length to record lists of that length\n",
    "    length_map = {}\n",
    "    \n",
    "    for index, item in enumerate(lists):\n",
    "        length = len(item)\n",
    "        \n",
    "        if length not in length_map.keys():\n",
    "            length_map[length] = []\n",
    "            \n",
    "        length_map[length].append(index)\n",
    "        \n",
    "    return length_map\n",
    "        \n",
    "def is_unique(length_map):\n",
    "    unique_lengths = len(length_map.keys())\n",
    "    \n",
    "    if unique_lengths > 1:\n",
    "        return False\n",
    "    \n",
    "    return True\n",
    "\n",
    "length_information = get_lengths(lists)\n",
    "print('Length Consistency is Preserved: ' + str(is_unique(length_information)))\n",
    "print('View: ' + str(length_information))"
   ]
  },
  {
   "cell_type": "code",
   "execution_count": 15,
   "metadata": {},
   "outputs": [
    {
     "name": "stdout",
     "output_type": "stream",
     "text": [
      "dict_data: \n",
      "[{'name': 'Nikhil', 'temp': '97.4'}, {'name': 'Sayar', 'temp': '97.2'}, {'name': 'Himu', 'temperature': '97.6'}, {'name': 'Kripa', 'temp': '97.1'}, {'name': 'Ujwal', 'temp': '97.9'}]\n"
     ]
    }
   ],
   "source": [
    "# With JSONs on each line\n",
    "\n",
    "with open('dictionary_data.txt', 'r+') as f:\n",
    "    raw_dict_data = f.readlines()\n",
    "\n",
    "dict_data = []\n",
    "view = False\n",
    "\n",
    "for item in raw_dict_data:\n",
    "    unit = item.strip()\n",
    "    \n",
    "    if view:\n",
    "        print(type(unit))\n",
    "    \n",
    "    dict_item = json.loads(unit)\n",
    "    dict_data.append(dict_item)\n",
    "    \n",
    "    if view:\n",
    "        print(type(dict_item))\n",
    "        \n",
    "# Displaying dict_data\n",
    "print('dict_data: ')\n",
    "print(dict_data)"
   ]
  },
  {
   "cell_type": "code",
   "execution_count": 16,
   "metadata": {},
   "outputs": [
    {
     "name": "stdout",
     "output_type": "stream",
     "text": [
      "Records in dict_data are consistent: False\n",
      "Indices of records that do not contain expected keys: [2]\n"
     ]
    }
   ],
   "source": [
    "# Given a set of expected keys\n",
    "expected_keys = ['name', 'temp']\n",
    "\n",
    "mismatch = []\n",
    "\n",
    "# Records that deviate from the set\n",
    "for index, record in enumerate(dict_data):\n",
    "    record_keys = [key for key in record.keys()]\n",
    "    \n",
    "    if not record_keys == expected_keys:\n",
    "        mismatch.append(index)\n",
    "        \n",
    "print('Records in dict_data are consistent: ' + str(len(mismatch) == 0))\n",
    "print('Indices of records that do not contain expected keys: ' + str(mismatch))"
   ]
  },
  {
   "cell_type": "code",
   "execution_count": 17,
   "metadata": {},
   "outputs": [
    {
     "data": {
      "text/html": [
       "<div>\n",
       "<style scoped>\n",
       "    .dataframe tbody tr th:only-of-type {\n",
       "        vertical-align: middle;\n",
       "    }\n",
       "\n",
       "    .dataframe tbody tr th {\n",
       "        vertical-align: top;\n",
       "    }\n",
       "\n",
       "    .dataframe thead th {\n",
       "        text-align: right;\n",
       "    }\n",
       "</style>\n",
       "<table border=\"1\" class=\"dataframe\">\n",
       "  <thead>\n",
       "    <tr style=\"text-align: right;\">\n",
       "      <th></th>\n",
       "      <th>a</th>\n",
       "      <th>b</th>\n",
       "      <th>c</th>\n",
       "      <th>isRightAngled?</th>\n",
       "    </tr>\n",
       "  </thead>\n",
       "  <tbody>\n",
       "    <tr>\n",
       "      <th>0</th>\n",
       "      <td>5.1</td>\n",
       "      <td>6.4</td>\n",
       "      <td>8.2</td>\n",
       "      <td>Yes</td>\n",
       "    </tr>\n",
       "    <tr>\n",
       "      <th>1</th>\n",
       "      <td>2.5</td>\n",
       "      <td>2.5</td>\n",
       "      <td>2.5</td>\n",
       "      <td>No</td>\n",
       "    </tr>\n",
       "    <tr>\n",
       "      <th>2</th>\n",
       "      <td>2.3</td>\n",
       "      <td>4.5</td>\n",
       "      <td>5.1</td>\n",
       "      <td>No</td>\n",
       "    </tr>\n",
       "    <tr>\n",
       "      <th>3</th>\n",
       "      <td>1.3</td>\n",
       "      <td>1.3</td>\n",
       "      <td>0.6</td>\n",
       "      <td>Yes</td>\n",
       "    </tr>\n",
       "    <tr>\n",
       "      <th>4</th>\n",
       "      <td>4.6</td>\n",
       "      <td>5.2</td>\n",
       "      <td>6.9</td>\n",
       "      <td>Yes</td>\n",
       "    </tr>\n",
       "    <tr>\n",
       "      <th>5</th>\n",
       "      <td>2.5</td>\n",
       "      <td>2.5</td>\n",
       "      <td>5.1</td>\n",
       "      <td>No</td>\n",
       "    </tr>\n",
       "    <tr>\n",
       "      <th>6</th>\n",
       "      <td>3.0</td>\n",
       "      <td>4.0</td>\n",
       "      <td>-5.0</td>\n",
       "      <td>Yes</td>\n",
       "    </tr>\n",
       "    <tr>\n",
       "      <th>7</th>\n",
       "      <td>1.2</td>\n",
       "      <td>-1.2</td>\n",
       "      <td>3.2</td>\n",
       "      <td>No</td>\n",
       "    </tr>\n",
       "    <tr>\n",
       "      <th>8</th>\n",
       "      <td>3.8</td>\n",
       "      <td>1.4</td>\n",
       "      <td>4.0</td>\n",
       "      <td>Yes</td>\n",
       "    </tr>\n",
       "    <tr>\n",
       "      <th>9</th>\n",
       "      <td>4.7</td>\n",
       "      <td>6.5</td>\n",
       "      <td>8.0</td>\n",
       "      <td>Yes</td>\n",
       "    </tr>\n",
       "  </tbody>\n",
       "</table>\n",
       "</div>"
      ],
      "text/plain": [
       "     a    b    c isRightAngled?\n",
       "0  5.1  6.4  8.2            Yes\n",
       "1  2.5  2.5  2.5             No\n",
       "2  2.3  4.5  5.1             No\n",
       "3  1.3  1.3  0.6            Yes\n",
       "4  4.6  5.2  6.9            Yes\n",
       "5  2.5  2.5  5.1             No\n",
       "6  3.0  4.0 -5.0            Yes\n",
       "7  1.2 -1.2  3.2             No\n",
       "8  3.8  1.4  4.0            Yes\n",
       "9  4.7  6.5  8.0            Yes"
      ]
     },
     "execution_count": 17,
     "metadata": {},
     "output_type": "execute_result"
    }
   ],
   "source": [
    "# Logical Consistency\n",
    "\n",
    "with open('triangle.csv', 'r+') as f:\n",
    "    raw_triangles = pd.read_csv(f)\n",
    "    \n",
    "raw_triangles"
   ]
  },
  {
   "cell_type": "code",
   "execution_count": 18,
   "metadata": {},
   "outputs": [],
   "source": [
    "def sanity(sides):\n",
    "    for side in sides:\n",
    "        try:\n",
    "            assert float(side) > 0\n",
    "        except Exception as E:\n",
    "            return False\n",
    "    return True\n",
    "\n",
    "def is_triangle(sides):\n",
    "    sides.sort()\n",
    "    \n",
    "    if sides[-1] >= sides[0] + sides[1]:\n",
    "        return False\n",
    "\n",
    "    return True\n",
    "\n",
    "def isRightAngled(sides):\n",
    "    sides.sort()\n",
    "    \n",
    "    squares = [np.power(side, 2) for side in sides]\n",
    "    \n",
    "    expected_hypotenuse = np.round(np.sqrt(squares[0] + squares[1]), 1)\n",
    "    \n",
    "    if expected_hypotenuse == np.round(sides[-1], 1):\n",
    "        return 'Yes'\n",
    "    \n",
    "    else:\n",
    "        return 'No'"
   ]
  },
  {
   "cell_type": "code",
   "execution_count": 19,
   "metadata": {},
   "outputs": [],
   "source": [
    "records = raw_triangles.values.tolist()\n",
    "\n",
    "sanity_violated = []\n",
    "not_triangle = []\n",
    "wrong_labels = []\n",
    "\n",
    "for index, record in enumerate(records):\n",
    "    sides = record[0: 3]\n",
    "    is_right = record[3]\n",
    "    \n",
    "    if not sanity(sides):\n",
    "        sanity_violated.append(index)\n",
    "        continue\n",
    "        \n",
    "    if not is_triangle(sides):\n",
    "        not_triangle.append(index)\n",
    "        continue\n",
    "        \n",
    "    if not is_right == isRightAngled(sides):\n",
    "        wrong_labels.append(index)"
   ]
  },
  {
   "cell_type": "code",
   "execution_count": 20,
   "metadata": {},
   "outputs": [
    {
     "name": "stdout",
     "output_type": "stream",
     "text": [
      "Sanity Checks Violated: [6, 7]\n",
      "Not a proper triangle: [5]\n",
      "Wrong label for isRightAngled?: [2, 3]\n"
     ]
    }
   ],
   "source": [
    "print('Sanity Checks Violated: ' + str(sanity_violated))\n",
    "print('Not a proper triangle: ' + str(not_triangle))\n",
    "print('Wrong label for isRightAngled?: ' + str(wrong_labels))"
   ]
  },
  {
   "cell_type": "code",
   "execution_count": 21,
   "metadata": {},
   "outputs": [],
   "source": [
    "# That's it"
   ]
  }
 ],
 "metadata": {
  "kernelspec": {
   "display_name": "Python 3",
   "language": "python",
   "name": "python3"
  },
  "language_info": {
   "codemirror_mode": {
    "name": "ipython",
    "version": 3
   },
   "file_extension": ".py",
   "mimetype": "text/x-python",
   "name": "python",
   "nbconvert_exporter": "python",
   "pygments_lexer": "ipython3",
   "version": "3.8.10"
  }
 },
 "nbformat": 4,
 "nbformat_minor": 4
}
