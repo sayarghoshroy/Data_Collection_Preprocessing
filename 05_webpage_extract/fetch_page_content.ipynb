{
 "cells": [
  {
   "cell_type": "code",
   "execution_count": 1,
   "metadata": {},
   "outputs": [],
   "source": [
    "%%capture\n",
    "!pip install boilerpipe3"
   ]
  },
  {
   "cell_type": "code",
   "execution_count": 4,
   "metadata": {},
   "outputs": [],
   "source": [
    "import json\n",
    "import time\n",
    "from boilerpipe.extract import Extractor"
   ]
  },
  {
   "cell_type": "code",
   "execution_count": 3,
   "metadata": {},
   "outputs": [],
   "source": [
    "def get_content(url):\n",
    "    view_logs = True\n",
    "    \n",
    "    if view_logs:\n",
    "        print(\"Trying to fetch content from: \" + str(url), flush = True)\n",
    "    \n",
    "    try:\n",
    "        extractor = Extractor(extractor = 'ArticleExtractor', url = url)\n",
    "        # Try out 'KeepEverythingExtractor'\n",
    "        \n",
    "        text = extractor.getText()\n",
    "        # Try out extractor.getHTML()\n",
    "        \n",
    "        text = str(text)\n",
    "        \n",
    "        text = text.replace(\"\\n\", \" \")\n",
    "        \n",
    "        mapping = [url, text]\n",
    "\n",
    "        # Uncomment to Test on Small Datasets\n",
    "        if view_logs:\n",
    "            print(\"Successful Retrieval\", flush = True)\n",
    "        return mapping\n",
    "\n",
    "    except Exception as E:\n",
    "        if view_logs:\n",
    "            print(\"Retrieval Failed\", flush = True)\n",
    "\n",
    "        mapping = [url, \"!FAILURE!\"]\n",
    "        return mapping"
   ]
  },
  {
   "cell_type": "code",
   "execution_count": 4,
   "metadata": {},
   "outputs": [
    {
     "name": "stdout",
     "output_type": "stream",
     "text": [
      "Trying to fetch content from: https://www.indiatoday.in/india/story/new-ac-3-tier-economy-class-coach-fare-lower-than-regular-railways-1846614-2021-08-29\n",
      "Successful Retrieval\n",
      "Time Taken: 0 minutes, 1 seconds\n"
     ]
    }
   ],
   "source": [
    "url = \"https://www.indiatoday.in/india/story/new-ac-3-tier-economy-class-coach-fare-lower-than-regular-railways-1846614-2021-08-29\"\n",
    "\n",
    "begin = time.time()\n",
    "content = get_content(url)\n",
    "\n",
    "end = time.time()\n",
    "duration = int(end - begin)\n",
    "print(\"Time Taken: \" + str(int(duration / 60)) + \" minutes, \" + str(int(duration % 60)) + \" seconds\", flush = True)"
   ]
  },
  {
   "cell_type": "code",
   "execution_count": 5,
   "metadata": {},
   "outputs": [],
   "source": [
    "view_now = False\n",
    "\n",
    "if view_now:\n",
    "    print(content)"
   ]
  },
  {
   "cell_type": "code",
   "execution_count": 6,
   "metadata": {},
   "outputs": [],
   "source": [
    "with open('content.txt', \"w+\") as f:\n",
    "    f.write(content[1])"
   ]
  },
  {
   "cell_type": "code",
   "execution_count": 5,
   "metadata": {},
   "outputs": [],
   "source": [
    "%%capture\n",
    "# nltk ~ covering the basics\n",
    "\n",
    "!pip install nltk\n",
    "\n",
    "import nltk\n",
    "nltk.download('punkt')"
   ]
  },
  {
   "cell_type": "code",
   "execution_count": 13,
   "metadata": {},
   "outputs": [
    {
     "name": "stdout",
     "output_type": "stream",
     "text": [
      "Raw Text: \n",
      "“Mr. Ocean lived in the U.S. … not anymore?”, asked Noah. Marvin replied that Mr. Ocean moved back to England. Noah was somewhat surprised.\n"
     ]
    }
   ],
   "source": [
    "# Processing the Extracted Text\n",
    "from_above = False\n",
    "\n",
    "if from_above:\n",
    "    text = content[1]\n",
    "else:\n",
    "    text = text = '“Mr. Ocean lived in the U.S. … not anymore?”, asked Noah. Marvin replied that Mr. Ocean moved back to England. Noah was somewhat surprised.'\n",
    "    \n",
    "display = True\n",
    "\n",
    "if display:\n",
    "    print('Raw Text: ')\n",
    "    print(text)"
   ]
  },
  {
   "cell_type": "code",
   "execution_count": 14,
   "metadata": {},
   "outputs": [
    {
     "name": "stdout",
     "output_type": "stream",
     "text": [
      "Number of sentences: 5\n",
      "\n",
      "1. “Mr.\n",
      "2. Ocean lived in the U.S. … not anymore?”, asked Noah.\n",
      "3. Marvin replied that Mr.\n",
      "4. Ocean moved back to England.\n",
      "5. Noah was somewhat surprised.\n"
     ]
    }
   ],
   "source": [
    "# Extracting sentences\n",
    "\n",
    "from nltk.tokenize import sent_tokenize\n",
    "\n",
    "sentences = sent_tokenize(text)\n",
    "\n",
    "print('Number of sentences: ' + str(len(sentences)))\n",
    "print()\n",
    "\n",
    "if display:\n",
    "    for index, sentence in enumerate(sentences):\n",
    "        print(str(index + 1) + '. ' + sentence)"
   ]
  },
  {
   "cell_type": "code",
   "execution_count": 17,
   "metadata": {},
   "outputs": [
    {
     "name": "stdout",
     "output_type": "stream",
     "text": [
      "['“mr. ocean lived in the u.s. … not anymore?”, asked noah.', 'marvin replied that mr. ocean moved back to england.', 'noah was somewhat surprised.']\n"
     ]
    }
   ],
   "source": [
    "type(sentences)\n",
    "\n",
    "if not from_above:\n",
    "    sentences = ['“Mr. Ocean lived in the U.S. … not anymore?”, asked Noah.', 'Marvin replied that Mr. Ocean moved back to England.', 'Noah was somewhat surprised.']\n",
    "\n",
    "for index, sent in enumerate(sentences):\n",
    "    sentences[index] = sent.lower()\n",
    "    \n",
    "print(sentences)"
   ]
  },
  {
   "cell_type": "code",
   "execution_count": 22,
   "metadata": {},
   "outputs": [
    {
     "name": "stdout",
     "output_type": "stream",
     "text": [
      "Sentence 3:\n",
      "['noah', 'was', 'somewhat', 'surprised', '.']\n"
     ]
    }
   ],
   "source": [
    "# Tokenization of sentences into words and punctuations\n",
    "\n",
    "import random\n",
    "from nltk.tokenize import word_tokenize\n",
    "\n",
    "tokenized = []\n",
    "\n",
    "for sentence in sentences:\n",
    "    tokens = word_tokenize(sentence)\n",
    "    tokenized.append(tokens)\n",
    "    \n",
    "if display:\n",
    "    choice = int(random.random() * len(tokenized))\n",
    "    print('Sentence ' + str(choice + 1) + ':')\n",
    "    print(tokenized[choice])\n",
    "    \n",
    "# NER Named Entity Recognition, Phrase identification ~ tokenize first, do not stem"
   ]
  },
  {
   "cell_type": "code",
   "execution_count": 23,
   "metadata": {},
   "outputs": [],
   "source": [
    "# Removing punctuations and stopwords\n",
    "import string\n",
    "\n",
    "nltk.download('stopwords')\n",
    "from nltk.corpus import stopwords\n",
    "\n",
    "stop_words = set(stopwords.words('english'))"
   ]
  },
  {
   "cell_type": "code",
   "execution_count": 24,
   "metadata": {},
   "outputs": [
    {
     "data": {
      "text/plain": [
       "{'a',\n",
       " 'about',\n",
       " 'above',\n",
       " 'after',\n",
       " 'again',\n",
       " 'against',\n",
       " 'ain',\n",
       " 'all',\n",
       " 'am',\n",
       " 'an',\n",
       " 'and',\n",
       " 'any',\n",
       " 'are',\n",
       " 'aren',\n",
       " \"aren't\",\n",
       " 'as',\n",
       " 'at',\n",
       " 'be',\n",
       " 'because',\n",
       " 'been',\n",
       " 'before',\n",
       " 'being',\n",
       " 'below',\n",
       " 'between',\n",
       " 'both',\n",
       " 'but',\n",
       " 'by',\n",
       " 'can',\n",
       " 'couldn',\n",
       " \"couldn't\",\n",
       " 'd',\n",
       " 'did',\n",
       " 'didn',\n",
       " \"didn't\",\n",
       " 'do',\n",
       " 'does',\n",
       " 'doesn',\n",
       " \"doesn't\",\n",
       " 'doing',\n",
       " 'don',\n",
       " \"don't\",\n",
       " 'down',\n",
       " 'during',\n",
       " 'each',\n",
       " 'few',\n",
       " 'for',\n",
       " 'from',\n",
       " 'further',\n",
       " 'had',\n",
       " 'hadn',\n",
       " \"hadn't\",\n",
       " 'has',\n",
       " 'hasn',\n",
       " \"hasn't\",\n",
       " 'have',\n",
       " 'haven',\n",
       " \"haven't\",\n",
       " 'having',\n",
       " 'he',\n",
       " 'her',\n",
       " 'here',\n",
       " 'hers',\n",
       " 'herself',\n",
       " 'him',\n",
       " 'himself',\n",
       " 'his',\n",
       " 'how',\n",
       " 'i',\n",
       " 'if',\n",
       " 'in',\n",
       " 'into',\n",
       " 'is',\n",
       " 'isn',\n",
       " \"isn't\",\n",
       " 'it',\n",
       " \"it's\",\n",
       " 'its',\n",
       " 'itself',\n",
       " 'just',\n",
       " 'll',\n",
       " 'm',\n",
       " 'ma',\n",
       " 'me',\n",
       " 'mightn',\n",
       " \"mightn't\",\n",
       " 'more',\n",
       " 'most',\n",
       " 'mustn',\n",
       " \"mustn't\",\n",
       " 'my',\n",
       " 'myself',\n",
       " 'needn',\n",
       " \"needn't\",\n",
       " 'no',\n",
       " 'nor',\n",
       " 'not',\n",
       " 'now',\n",
       " 'o',\n",
       " 'of',\n",
       " 'off',\n",
       " 'on',\n",
       " 'once',\n",
       " 'only',\n",
       " 'or',\n",
       " 'other',\n",
       " 'our',\n",
       " 'ours',\n",
       " 'ourselves',\n",
       " 'out',\n",
       " 'over',\n",
       " 'own',\n",
       " 're',\n",
       " 's',\n",
       " 'same',\n",
       " 'shan',\n",
       " \"shan't\",\n",
       " 'she',\n",
       " \"she's\",\n",
       " 'should',\n",
       " \"should've\",\n",
       " 'shouldn',\n",
       " \"shouldn't\",\n",
       " 'so',\n",
       " 'some',\n",
       " 'such',\n",
       " 't',\n",
       " 'than',\n",
       " 'that',\n",
       " \"that'll\",\n",
       " 'the',\n",
       " 'their',\n",
       " 'theirs',\n",
       " 'them',\n",
       " 'themselves',\n",
       " 'then',\n",
       " 'there',\n",
       " 'these',\n",
       " 'they',\n",
       " 'this',\n",
       " 'those',\n",
       " 'through',\n",
       " 'to',\n",
       " 'too',\n",
       " 'under',\n",
       " 'until',\n",
       " 'up',\n",
       " 've',\n",
       " 'very',\n",
       " 'was',\n",
       " 'wasn',\n",
       " \"wasn't\",\n",
       " 'we',\n",
       " 'were',\n",
       " 'weren',\n",
       " \"weren't\",\n",
       " 'what',\n",
       " 'when',\n",
       " 'where',\n",
       " 'which',\n",
       " 'while',\n",
       " 'who',\n",
       " 'whom',\n",
       " 'why',\n",
       " 'will',\n",
       " 'with',\n",
       " 'won',\n",
       " \"won't\",\n",
       " 'wouldn',\n",
       " \"wouldn't\",\n",
       " 'y',\n",
       " 'you',\n",
       " \"you'd\",\n",
       " \"you'll\",\n",
       " \"you're\",\n",
       " \"you've\",\n",
       " 'your',\n",
       " 'yours',\n",
       " 'yourself',\n",
       " 'yourselves'}"
      ]
     },
     "execution_count": 24,
     "metadata": {},
     "output_type": "execute_result"
    }
   ],
   "source": [
    "stop_words"
   ]
  },
  {
   "cell_type": "code",
   "execution_count": 29,
   "metadata": {},
   "outputs": [
    {
     "name": "stdout",
     "output_type": "stream",
     "text": [
      "Sentence 3:\n",
      "['noah', 'somewhat', 'surprised']\n"
     ]
    }
   ],
   "source": [
    "def presence_alnum(token):\n",
    "    for char in token:\n",
    "        if char.isalnum():\n",
    "            return True\n",
    "    return False\n",
    "\n",
    "words = []\n",
    "\n",
    "for unit in tokenized:\n",
    "    stream = [token for token in unit if\n",
    "              token not in string.punctuation\n",
    "              and presence_alnum(token)\n",
    "              and token not in stop_words]\n",
    "    \n",
    "    words.append(stream)\n",
    "    \n",
    "if display:\n",
    "    choice = int(random.random() * len(tokenized))\n",
    "    print('Sentence ' + str(choice + 1) + ':')\n",
    "    print(words[choice])"
   ]
  },
  {
   "cell_type": "code",
   "execution_count": 32,
   "metadata": {},
   "outputs": [
    {
     "data": {
      "text/plain": [
       "[['mr', 'ocean', 'live', 'u.s.', 'anymor', 'ask', 'noah'],\n",
       " ['marvin', 'repli', 'mr.', 'ocean', 'move', 'back', 'england'],\n",
       " ['noah', 'somewhat', 'surpris']]"
      ]
     },
     "execution_count": 32,
     "metadata": {},
     "output_type": "execute_result"
    }
   ],
   "source": [
    "# Stemming\n",
    "from nltk.stem import PorterStemmer\n",
    "from nltk.stem.snowball import SnowballStemmer\n",
    "\n",
    "porter = PorterStemmer()\n",
    "snowstem = SnowballStemmer(language = 'english')\n",
    "\n",
    "porter_stemmed = []\n",
    "snowball_stemmed = []\n",
    "\n",
    "for unit in words:\n",
    "    porter_stream = [porter.stem(token.lower()) for token in unit]\n",
    "    snowball_stream = [snowstem.stem(token.lower()) for token in unit]\n",
    "    \n",
    "    porter_stemmed.append(porter_stream)\n",
    "    snowball_stemmed.append(snowball_stream)\n",
    "    \n",
    "see_ids = []\n",
    "\n",
    "# Visalizing stemmed content\n",
    "for index in range(len(porter_stemmed)):\n",
    "    if porter_stemmed[index] != snowball_stemmed[index]:\n",
    "        see_ids.append(index)\n",
    "        \n",
    "        print('Raw Word Tokens | Sentence ' + str(index + 1) + ':')\n",
    "        print(words[index])\n",
    "        print()\n",
    "        \n",
    "        print('Using Porter Stemmer | Sentence ' + str(index + 1) + ':')\n",
    "        print(porter_stemmed[index])\n",
    "        print()\n",
    "\n",
    "        print('Using Snowball Stemmer | Sentence ' + str(index + 1) + ' :')\n",
    "        print(snowball_stemmed[index])\n",
    "        print()"
   ]
  },
  {
   "cell_type": "code",
   "execution_count": 14,
   "metadata": {},
   "outputs": [],
   "source": [
    "# Lemmatization\n",
    "from nltk.stem import WordNetLemmatizer\n",
    "\n",
    "nltk.download('wordnet')\n",
    "\n",
    "lemmatizer = WordNetLemmatizer()"
   ]
  },
  {
   "cell_type": "code",
   "execution_count": 15,
   "metadata": {},
   "outputs": [
    {
     "name": "stdout",
     "output_type": "stream",
     "text": [
      "Raw Word Tokens | Sentence 9:\n",
      "['These', 'passenger-friendly', 'coaches', '83', 'berths', 'fare', 'lower', 'compared', 'regular', '3AC', 'coaches', 'said']\n",
      "\n",
      "Using WordNet Lemmatizer | Sentence 9:\n",
      "['these', 'passenger-friendly', 'coach', '83', 'berth', 'fare', 'lower', 'compared', 'regular', '3ac', 'coach', 'said']\n",
      "\n",
      "Raw Word Tokens | Sentence 13:\n",
      "['According', 'officials', 'booking', 'tickets', 'passes', 'issued', 'Members', 'Parliament', 'rail', 'travel', 'coupons', 'RTCs', 'issued', 'MLA/MLCs', 'fully', 'reimbursable', 'warrants/vouchers', 'shall', 'permissible', 'per', 'existing', 'provision', '3AC', 'coaches', 'mail/express', 'trains']\n",
      "\n",
      "Using WordNet Lemmatizer | Sentence 13:\n",
      "['according', 'official', 'booking', 'ticket', 'pass', 'issued', 'member', 'parliament', 'rail', 'travel', 'coupon', 'rtcs', 'issued', 'mla/mlcs', 'fully', 'reimbursable', 'warrants/vouchers', 'shall', 'permissible', 'per', 'existing', 'provision', '3ac', 'coach', 'mail/express', 'train']\n",
      "\n",
      "Raw Word Tokens | Sentence 19:\n",
      "['Click', 'IndiaToday.in', 'complete', 'coverage', 'coronavirus', 'pandemic']\n",
      "\n",
      "Using WordNet Lemmatizer | Sentence 19:\n",
      "['click', 'indiatoday.in', 'complete', 'coverage', 'coronavirus', 'pandemic']\n",
      "\n"
     ]
    }
   ],
   "source": [
    "lemmas = []\n",
    "\n",
    "for unit in words:\n",
    "    lemma_stream = [lemmatizer.lemmatize(token.lower()) for token in unit]\n",
    "    lemmas.append(lemma_stream)\n",
    "    \n",
    "for index in see_ids:\n",
    "    print('Raw Word Tokens | Sentence ' + str(index + 1) + ':')\n",
    "    print(words[index])\n",
    "    print()\n",
    "    \n",
    "    print('Using WordNet Lemmatizer | Sentence ' + str(index + 1) + ':')\n",
    "    print(lemmas[index])\n",
    "    print()"
   ]
  },
  {
   "cell_type": "code",
   "execution_count": 16,
   "metadata": {},
   "outputs": [],
   "source": [
    "# That's all"
   ]
  }
 ],
 "metadata": {
  "kernelspec": {
   "display_name": "Python 3",
   "language": "python",
   "name": "python3"
  },
  "language_info": {
   "codemirror_mode": {
    "name": "ipython",
    "version": 3
   },
   "file_extension": ".py",
   "mimetype": "text/x-python",
   "name": "python",
   "nbconvert_exporter": "python",
   "pygments_lexer": "ipython3",
   "version": "3.8.10"
  }
 },
 "nbformat": 4,
 "nbformat_minor": 4
}
