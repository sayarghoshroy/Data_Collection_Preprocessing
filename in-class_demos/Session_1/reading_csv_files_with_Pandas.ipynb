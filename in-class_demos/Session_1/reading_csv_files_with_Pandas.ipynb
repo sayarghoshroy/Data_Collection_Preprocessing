{
 "cells": [
  {
   "cell_type": "code",
   "execution_count": 1,
   "metadata": {},
   "outputs": [
    {
     "name": "stdout",
     "output_type": "stream",
     "text": [
      "Requirement already satisfied: pandas in /home/sayar/.local/lib/python3.8/site-packages (1.3.2)\r\n",
      "Requirement already satisfied: python-dateutil>=2.7.3 in /usr/lib/python3/dist-packages (from pandas) (2.7.3)\r\n",
      "Requirement already satisfied: numpy>=1.17.3 in /home/sayar/.local/lib/python3.8/site-packages (from pandas) (1.21.2)\r\n",
      "Requirement already satisfied: pytz>=2017.3 in /usr/lib/python3/dist-packages (from pandas) (2019.3)\r\n"
     ]
    }
   ],
   "source": [
    "!pip install pandas"
   ]
  },
  {
   "cell_type": "code",
   "execution_count": 2,
   "metadata": {},
   "outputs": [],
   "source": [
    "# Using pandas\n",
    "import pandas as pd"
   ]
  },
  {
   "cell_type": "code",
   "execution_count": 3,
   "metadata": {},
   "outputs": [],
   "source": [
    "df = pd.read_csv('sales.csv')"
   ]
  },
  {
   "cell_type": "code",
   "execution_count": 4,
   "metadata": {},
   "outputs": [
    {
     "data": {
      "text/html": [
       "<div>\n",
       "<style scoped>\n",
       "    .dataframe tbody tr th:only-of-type {\n",
       "        vertical-align: middle;\n",
       "    }\n",
       "\n",
       "    .dataframe tbody tr th {\n",
       "        vertical-align: top;\n",
       "    }\n",
       "\n",
       "    .dataframe thead th {\n",
       "        text-align: right;\n",
       "    }\n",
       "</style>\n",
       "<table border=\"1\" class=\"dataframe\">\n",
       "  <thead>\n",
       "    <tr style=\"text-align: right;\">\n",
       "      <th></th>\n",
       "      <th>Month</th>\n",
       "      <th>Sales</th>\n",
       "    </tr>\n",
       "  </thead>\n",
       "  <tbody>\n",
       "    <tr>\n",
       "      <th>0</th>\n",
       "      <td>1960-01</td>\n",
       "      <td>6550</td>\n",
       "    </tr>\n",
       "    <tr>\n",
       "      <th>1</th>\n",
       "      <td>1960-02</td>\n",
       "      <td>8728</td>\n",
       "    </tr>\n",
       "    <tr>\n",
       "      <th>2</th>\n",
       "      <td>1960-03</td>\n",
       "      <td>12026</td>\n",
       "    </tr>\n",
       "    <tr>\n",
       "      <th>3</th>\n",
       "      <td>1960-04</td>\n",
       "      <td>14395</td>\n",
       "    </tr>\n",
       "    <tr>\n",
       "      <th>4</th>\n",
       "      <td>1960-05</td>\n",
       "      <td>14587</td>\n",
       "    </tr>\n",
       "    <tr>\n",
       "      <th>...</th>\n",
       "      <td>...</td>\n",
       "      <td>...</td>\n",
       "    </tr>\n",
       "    <tr>\n",
       "      <th>103</th>\n",
       "      <td>1968-08</td>\n",
       "      <td>16722</td>\n",
       "    </tr>\n",
       "    <tr>\n",
       "      <th>104</th>\n",
       "      <td>1968-09</td>\n",
       "      <td>14385</td>\n",
       "    </tr>\n",
       "    <tr>\n",
       "      <th>105</th>\n",
       "      <td>1968-10</td>\n",
       "      <td>21342</td>\n",
       "    </tr>\n",
       "    <tr>\n",
       "      <th>106</th>\n",
       "      <td>1968-11</td>\n",
       "      <td>17180</td>\n",
       "    </tr>\n",
       "    <tr>\n",
       "      <th>107</th>\n",
       "      <td>1968-12</td>\n",
       "      <td>14577</td>\n",
       "    </tr>\n",
       "  </tbody>\n",
       "</table>\n",
       "<p>108 rows × 2 columns</p>\n",
       "</div>"
      ],
      "text/plain": [
       "       Month  Sales\n",
       "0    1960-01   6550\n",
       "1    1960-02   8728\n",
       "2    1960-03  12026\n",
       "3    1960-04  14395\n",
       "4    1960-05  14587\n",
       "..       ...    ...\n",
       "103  1968-08  16722\n",
       "104  1968-09  14385\n",
       "105  1968-10  21342\n",
       "106  1968-11  17180\n",
       "107  1968-12  14577\n",
       "\n",
       "[108 rows x 2 columns]"
      ]
     },
     "execution_count": 4,
     "metadata": {},
     "output_type": "execute_result"
    }
   ],
   "source": [
    "# Displaying the dataframe\n",
    "df"
   ]
  },
  {
   "cell_type": "code",
   "execution_count": 5,
   "metadata": {},
   "outputs": [
    {
     "data": {
      "text/plain": [
       "Index(['Month', 'Sales'], dtype='object')"
      ]
     },
     "execution_count": 5,
     "metadata": {},
     "output_type": "execute_result"
    }
   ],
   "source": [
    "# Fetch column names\n",
    "df.columns"
   ]
  },
  {
   "cell_type": "code",
   "execution_count": 6,
   "metadata": {},
   "outputs": [
    {
     "data": {
      "text/plain": [
       "0      1960-01\n",
       "1      1960-02\n",
       "2      1960-03\n",
       "3      1960-04\n",
       "4      1960-05\n",
       "        ...   \n",
       "103    1968-08\n",
       "104    1968-09\n",
       "105    1968-10\n",
       "106    1968-11\n",
       "107    1968-12\n",
       "Name: Month, Length: 108, dtype: object"
      ]
     },
     "execution_count": 6,
     "metadata": {},
     "output_type": "execute_result"
    }
   ],
   "source": [
    "# Fetch specific columns\n",
    "df.Month"
   ]
  },
  {
   "cell_type": "code",
   "execution_count": 7,
   "metadata": {},
   "outputs": [
    {
     "data": {
      "text/plain": [
       "0       6550\n",
       "1       8728\n",
       "2      12026\n",
       "3      14395\n",
       "4      14587\n",
       "       ...  \n",
       "103    16722\n",
       "104    14385\n",
       "105    21342\n",
       "106    17180\n",
       "107    14577\n",
       "Name: Sales, Length: 108, dtype: int64"
      ]
     },
     "execution_count": 7,
     "metadata": {},
     "output_type": "execute_result"
    }
   ],
   "source": [
    "df.Sales"
   ]
  },
  {
   "cell_type": "code",
   "execution_count": 8,
   "metadata": {},
   "outputs": [
    {
     "data": {
      "text/plain": [
       "0       6550\n",
       "1       8728\n",
       "2      12026\n",
       "3      14395\n",
       "4      14587\n",
       "       ...  \n",
       "103    16722\n",
       "104    14385\n",
       "105    21342\n",
       "106    17180\n",
       "107    14577\n",
       "Name: Sales, Length: 108, dtype: int64"
      ]
     },
     "execution_count": 8,
     "metadata": {},
     "output_type": "execute_result"
    }
   ],
   "source": [
    "# Another way to fetch columns\n",
    "df['Sales']"
   ]
  },
  {
   "cell_type": "code",
   "execution_count": 9,
   "metadata": {},
   "outputs": [
    {
     "data": {
      "text/plain": [
       "array([['1960-01', 6550],\n",
       "       ['1960-02', 8728],\n",
       "       ['1960-03', 12026],\n",
       "       ['1960-04', 14395],\n",
       "       ['1960-05', 14587],\n",
       "       ['1960-06', 13791],\n",
       "       ['1960-07', 9498],\n",
       "       ['1960-08', 8251],\n",
       "       ['1960-09', 7049],\n",
       "       ['1960-10', 9545],\n",
       "       ['1960-11', 9364],\n",
       "       ['1960-12', 8456],\n",
       "       ['1961-01', 7237],\n",
       "       ['1961-02', 9374],\n",
       "       ['1961-03', 11837],\n",
       "       ['1961-04', 13784],\n",
       "       ['1961-05', 15926],\n",
       "       ['1961-06', 13821],\n",
       "       ['1961-07', 11143],\n",
       "       ['1961-08', 7975],\n",
       "       ['1961-09', 7610],\n",
       "       ['1961-10', 10015],\n",
       "       ['1961-11', 12759],\n",
       "       ['1961-12', 8816],\n",
       "       ['1962-01', 10677],\n",
       "       ['1962-02', 10947],\n",
       "       ['1962-03', 15200],\n",
       "       ['1962-04', 17010],\n",
       "       ['1962-05', 20900],\n",
       "       ['1962-06', 16205],\n",
       "       ['1962-07', 12143],\n",
       "       ['1962-08', 8997],\n",
       "       ['1962-09', 5568],\n",
       "       ['1962-10', 11474],\n",
       "       ['1962-11', 12256],\n",
       "       ['1962-12', 10583],\n",
       "       ['1963-01', 10862],\n",
       "       ['1963-02', 10965],\n",
       "       ['1963-03', 14405],\n",
       "       ['1963-04', 20379],\n",
       "       ['1963-05', 20128],\n",
       "       ['1963-06', 17816],\n",
       "       ['1963-07', 12268],\n",
       "       ['1963-08', 8642],\n",
       "       ['1963-09', 7962],\n",
       "       ['1963-10', 13932],\n",
       "       ['1963-11', 15936],\n",
       "       ['1963-12', 12628],\n",
       "       ['1964-01', 12267],\n",
       "       ['1964-02', 12470],\n",
       "       ['1964-03', 18944],\n",
       "       ['1964-04', 21259],\n",
       "       ['1964-05', 22015],\n",
       "       ['1964-06', 18581],\n",
       "       ['1964-07', 15175],\n",
       "       ['1964-08', 10306],\n",
       "       ['1964-09', 10792],\n",
       "       ['1964-10', 14752],\n",
       "       ['1964-11', 13754],\n",
       "       ['1964-12', 11738],\n",
       "       ['1965-01', 12181],\n",
       "       ['1965-02', 12965],\n",
       "       ['1965-03', 19990],\n",
       "       ['1965-04', 23125],\n",
       "       ['1965-05', 23541],\n",
       "       ['1965-06', 21247],\n",
       "       ['1965-07', 15189],\n",
       "       ['1965-08', 14767],\n",
       "       ['1965-09', 10895],\n",
       "       ['1965-10', 17130],\n",
       "       ['1965-11', 17697],\n",
       "       ['1965-12', 16611],\n",
       "       ['1966-01', 12674],\n",
       "       ['1966-02', 12760],\n",
       "       ['1966-03', 20249],\n",
       "       ['1966-04', 22135],\n",
       "       ['1966-05', 20677],\n",
       "       ['1966-06', 19933],\n",
       "       ['1966-07', 15388],\n",
       "       ['1966-08', 15113],\n",
       "       ['1966-09', 13401],\n",
       "       ['1966-10', 16135],\n",
       "       ['1966-11', 17562],\n",
       "       ['1966-12', 14720],\n",
       "       ['1967-01', 12225],\n",
       "       ['1967-02', 11608],\n",
       "       ['1967-03', 20985],\n",
       "       ['1967-04', 19692],\n",
       "       ['1967-05', 24081],\n",
       "       ['1967-06', 22114],\n",
       "       ['1967-07', 14220],\n",
       "       ['1967-08', 13434],\n",
       "       ['1967-09', 13598],\n",
       "       ['1967-10', 17187],\n",
       "       ['1967-11', 16119],\n",
       "       ['1967-12', 13713],\n",
       "       ['1968-01', 13210],\n",
       "       ['1968-02', 14251],\n",
       "       ['1968-03', 20139],\n",
       "       ['1968-04', 21725],\n",
       "       ['1968-05', 26099],\n",
       "       ['1968-06', 21084],\n",
       "       ['1968-07', 18024],\n",
       "       ['1968-08', 16722],\n",
       "       ['1968-09', 14385],\n",
       "       ['1968-10', 21342],\n",
       "       ['1968-11', 17180],\n",
       "       ['1968-12', 14577]], dtype=object)"
      ]
     },
     "execution_count": 9,
     "metadata": {},
     "output_type": "execute_result"
    }
   ],
   "source": [
    "# Fetch the actual data values without column headers\n",
    "df.values"
   ]
  },
  {
   "cell_type": "code",
   "execution_count": 14,
   "metadata": {},
   "outputs": [
    {
     "name": "stdout",
     "output_type": "stream",
     "text": [
      "Header: ['Month', 'Sales']\n"
     ]
    }
   ],
   "source": [
    "# To store the column names in a list of rows\n",
    "\n",
    "header = df.columns.tolist()\n",
    "\n",
    "print('Header: ' + str(header))"
   ]
  },
  {
   "cell_type": "code",
   "execution_count": 11,
   "metadata": {},
   "outputs": [
    {
     "name": "stdout",
     "output_type": "stream",
     "text": [
      "First Row: ['1960-01', 6550]\n",
      "Number of rows: 108\n"
     ]
    }
   ],
   "source": [
    "# Task 1\n",
    "# Store all of the data values as a list of list of rows (like a matrix)\n",
    "\n",
    "# Complete the following line:\n",
    "\n",
    "rows = df.values.tolist()\n",
    "\n",
    "print('First Row: ' + str(rows[0]))\n",
    "print('Number of rows: ' + str(len(rows)))"
   ]
  },
  {
   "cell_type": "code",
   "execution_count": 12,
   "metadata": {},
   "outputs": [
    {
     "name": "stdout",
     "output_type": "stream",
     "text": [
      "sales_list: [6550, 8728, 12026, 14395, 14587, 13791, 9498, 8251, 7049, 9545, 9364, 8456, 7237, 9374, 11837, 13784, 15926, 13821, 11143, 7975, 7610, 10015, 12759, 8816, 10677, 10947, 15200, 17010, 20900, 16205, 12143, 8997, 5568, 11474, 12256, 10583, 10862, 10965, 14405, 20379, 20128, 17816, 12268, 8642, 7962, 13932, 15936, 12628, 12267, 12470, 18944, 21259, 22015, 18581, 15175, 10306, 10792, 14752, 13754, 11738, 12181, 12965, 19990, 23125, 23541, 21247, 15189, 14767, 10895, 17130, 17697, 16611, 12674, 12760, 20249, 22135, 20677, 19933, 15388, 15113, 13401, 16135, 17562, 14720, 12225, 11608, 20985, 19692, 24081, 22114, 14220, 13434, 13598, 17187, 16119, 13713, 13210, 14251, 20139, 21725, 26099, 21084, 18024, 16722, 14385, 21342, 17180, 14577]\n"
     ]
    }
   ],
   "source": [
    "# Task 2\n",
    "\n",
    "# Store all of the sales figures as a list\n",
    "\n",
    "# Complete the following line:\n",
    "sales_list = df.Sales.tolist()\n",
    "\n",
    "print('sales_list: ' + str(sales_list))"
   ]
  },
  {
   "cell_type": "code",
   "execution_count": 13,
   "metadata": {},
   "outputs": [],
   "source": [
    "# That's it"
   ]
  }
 ],
 "metadata": {
  "kernelspec": {
   "display_name": "Python 3",
   "language": "python",
   "name": "python3"
  },
  "language_info": {
   "codemirror_mode": {
    "name": "ipython",
    "version": 3
   },
   "file_extension": ".py",
   "mimetype": "text/x-python",
   "name": "python",
   "nbconvert_exporter": "python",
   "pygments_lexer": "ipython3",
   "version": "3.8.10"
  }
 },
 "nbformat": 4,
 "nbformat_minor": 4
}
