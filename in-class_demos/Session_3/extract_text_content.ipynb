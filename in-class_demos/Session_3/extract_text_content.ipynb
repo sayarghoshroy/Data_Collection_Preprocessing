{
 "cells": [
  {
   "cell_type": "code",
   "execution_count": 1,
   "metadata": {},
   "outputs": [
    {
     "name": "stdout",
     "output_type": "stream",
     "text": [
      "Requirement already satisfied: boilerpipe3 in /home/sayar/.local/lib/python3.8/site-packages (1.3)\r\n",
      "Requirement already satisfied: JPype1 in /home/sayar/.local/lib/python3.8/site-packages (from boilerpipe3) (1.3.0)\r\n",
      "Requirement already satisfied: charade in /home/sayar/.local/lib/python3.8/site-packages (from boilerpipe3) (1.0.3)\r\n"
     ]
    }
   ],
   "source": [
    "!pip install boilerpipe3"
   ]
  },
  {
   "cell_type": "code",
   "execution_count": 2,
   "metadata": {},
   "outputs": [],
   "source": [
    "from boilerpipe.extract import Extractor"
   ]
  },
  {
   "cell_type": "code",
   "execution_count": 3,
   "metadata": {},
   "outputs": [],
   "source": [
    "import json"
   ]
  },
  {
   "cell_type": "code",
   "execution_count": 4,
   "metadata": {},
   "outputs": [],
   "source": [
    "# Function to fetch page content\n",
    "\n",
    "mapping = {}\n",
    "\n",
    "def get_content(url):\n",
    "    global mapping\n",
    "    \n",
    "    print('Trying to fetch content from: ' + str(url), flush = True)\n",
    "    \n",
    "    try:\n",
    "        extractor = Extractor(extractor = 'ArticleExtractor', url = url)\n",
    "        # Try out 'KeepEverythingExtractor' and 'ArticleExtractor'\n",
    "        \n",
    "        text = extractor.getText()\n",
    "        # Try out extractor.getHTML() and extractor.getText()\n",
    "        \n",
    "        text = str(text)\n",
    "        # To ensure that it is a Python string\n",
    "        \n",
    "        text = text.replace('\\n', ' ')\n",
    "        # Replacing newlines with spaces, comment this line to preserve newlines\n",
    "        \n",
    "        mapping[url] = text\n",
    "\n",
    "        print('Successful Retrieval', flush = True)\n",
    "        \n",
    "        return mapping\n",
    "\n",
    "    except Exception as E:\n",
    "        \n",
    "        print('Retrieval Failed', flush = True)\n",
    "\n",
    "        mapping[url] = 'error!'\n",
    "        \n",
    "        return mapping"
   ]
  },
  {
   "cell_type": "code",
   "execution_count": 5,
   "metadata": {},
   "outputs": [],
   "source": [
    "# URL whose content is to be extracted\n",
    "url = 'https://www.washingtonpost.com/technology/2022/04/14/texting-etiquette-101/'"
   ]
  },
  {
   "cell_type": "code",
   "execution_count": 6,
   "metadata": {},
   "outputs": [
    {
     "name": "stdout",
     "output_type": "stream",
     "text": [
      "Trying to fetch content from: https://www.washingtonpost.com/technology/2022/04/14/texting-etiquette-101/\n",
      "Successful Retrieval\n"
     ]
    }
   ],
   "source": [
    "content_map = get_content(url)"
   ]
  },
  {
   "cell_type": "code",
   "execution_count": 7,
   "metadata": {},
   "outputs": [
    {
     "data": {
      "text/plain": [
       "{'https://www.washingtonpost.com/technology/2022/04/14/texting-etiquette-101/': 'April 14, 2022 at 12:10 p.m. EDT Loading... Old expectations around texting are falling away. Here’s the etiquette that’s sticking around. (Washington Post illustration; iStock) Placeholder while article actions load Lizzie Post once sent a text message checking in on a friend with a new baby. The response came late — a full year later. Would her great-great-grandmother, the prolific writer and titan of American etiquette Emily Post, be horrified? The younger Post says she doesn’t think so. ArrowRight “I feel like her personality would have been one where if you weren\\'t offended by the disconnection, then of course you would welcome the reconnection,” the younger Post said. “If the disconnection offended you, then either don\\'t respond or let someone know it was a problem. Either take ownership of it or let it go.” Throughout her career spanning the first half of the 20th century, Emily Post adjusted her etiquette advice to reflect a changing society, says the younger Post, who co-wrote the 19th and soon-to-come 20th editions of the book “Emily Post’s Etiquette.” And that approach may be the only hope we have to make sense of texting, the asynchronous phone messages that now prop up much of our social and professional lives. Advertisement Agreed-upon rules for how to text appropriately have imploded amid a global pandemic, the proliferation of social media apps and the breakdown of work-life boundaries. Search Twitter for “texting etiquette” and you’ll find a range of contradictory complaints — is it rude to let a text sit or rude to expect a response? Is the thumbs-up emoji passive-aggressive? Does an all-caps message demand an all-caps response? Generational differences make things even harder, as teens progress from literal to ironic emoji use while our aunts continue to reply “OK.” Texting has become our default mode of communication, says Justin Santamaria, who led the development of Apple’s texting service iMessage back in the early 2010s. What may once have been a letter, voice mail, phone call or email now often arrives in a text — and that collapse of contexts makes it tough to know which rules to follow. Wondering what texting wisdom has survived the past few years? Here’s what the experts told us. If you have texting rules you live by, send them our way at yourhelpdesk@washpost.com . My friend is in labor and just texted me back right away but one time a dude took 12 hours cause \"work got a little cray\" — Michelle Markowitz (@michmarkowitz) May 17, 2016 Think of group texts like a dinner party Michelle Markowitz, co-author of “ Hey Ladies!: The Story of 8 Best Friends, 1 Year, and Way, Way Too Many Emails ,” a book about off-the-rails group messages, said she’s tossed aside plenty of traditional texting wisdom. The “this should have been a phone call” thinking is over. (She loves writing and reading long messages. Type a novella with your thumbs!). And she’s given up on texting teenage relatives. Advertisement “It’s easier to find them on Instagram or somewhere. That’s where they seem truly alive,” she said. But some texting manners are here to stay, especially when it comes to group chats. In “Hey Ladies!” Markowitz and her co-author Caroline Moss mine the many ways group communication goes awry. Group texts spawn hundreds of notifications, they’re often filled with strangers, and those threads never go away. (I’m pretty sure I’m still in a group chat for my college theater production of “Rent.”) How to keep your intimate, embarrassing or damaging text messages as private as possible You wouldn’t invite a bunch of friends to your house and not introduce them, so don’t do that in a group text, either, Markowitz said. Take a moment at the top to let everyone say their names and clarify how they know each other. If you need to iron something out with a particular group member, start a new text conversation instead of making everyone read your back-and-forth. Advertisement When it comes to money, tread lightly. Planning a weekend getaway or fancy dinner in the group chat sounds like fun, but some recipients might be squirming if they don’t want to shell out for the Michelin-starred farm-to-table extravaganza. If you’re at the helm, create space for dissenters or give people a way to suggest alternatives or gracefully back out. We’re done fighting over capital letters and punctuation Sorry, sticklers — this ship has sailed. A good text makes sense to its recipient, but that shouldn’t require consulting an SAT grammar workbook, Markowitz noted. After years of reduced social contact, she’s happy when someone reaches out, even if their style of texting is totally different from hers. Skipping the capitalization or leaving off a question mark doesn’t denote a lack of respect. Advertisement Millennials and Gen-Zers aren’t exempt here. It’s time we embrace the dreaded Gen-X ellipses … even if it makes our anxiety spike … my only hot take about gen x is that they are very exciting people to date bc they don\\'t know how to text normal, so every single text makes it seem like they are about to break up with you. makes me feel alive — \"Daddy Magic\" Kath Barbadoro (@kathbarbadoro) April 6, 2022 Responses aren’t mandatory, but acknowledgments are nice The past few years have been hard, and a growing chunk of text responses begin with “sorry for the delay,” Post said. Keep in mind that plenty of texts get lost to busyness or brain fog, and if you really need an answer, send a kind follow-up. On the other hand, keep in mind that unanswered texts make some people feel worried, Post added. A short note letting them know you saw their message and will respond when you have time can alleviate some text-related suffering. Santamaria said he has a now-or-never approach to texting — once a message has sat a while, it’s tough for him to circle back. A simple smiley face or exclamation point reaction lets the sender know he saw it and appreciated the thought, he said. Advertisement Beware: \"Effects” in iMessage like thumbs-up bubbles and spotlights can get weird if your recipient isn’t also using iMessage. It’s best to avoid those in group chats. Don’t be a texting wet blanket Striking some particular tone is less important than matching your conversation partner’s energy. Plenty of us have poured our hearts out over text to get “ok” in response. Repeatedly sending short responses like thumbs up, “lol” or “k” might be fine if your recipient does the same, Post said, but it’s “immature” if you’re failing to hold up your end of the conversation. Texting isn’t Morse code — the goal is not to use as few words as possible. Keep in mind that different generations have different comfort levels with texting. Your grandma’s insistence on signing her name to every message may be unfortunate, but it’s not a big deal. Try to avoid any shorthand your recipient won’t understand, and have grace when your dad sends a winky face. if you say something bad and i respond by stating your name in all caps i love you — Tess Gattuso (@tessplease) July 1, 2021 No scary mysteries The historical ban against “hey can we talk” still holds, Markowitz said. Cryptic messages like “call me please” or “what are you doing on Tuesday” make your recipient nervous because they don’t know what you’re going to ask, she said. Give them a clue so they can choose the best response. It’s okay to get serious Delivering bad news — like a breakup or someone’s death — over text is verboten, Post said. Advertisement But limiting text conversations to logistics and basic greetings is outdated. We’ve come to rely on texting in so many contexts, Santamaria said, that it’s natural we’ll end up talking about our emotions. Sometimes he finds it easier to say serious things over text because he has more time to think. Ask Help Desk: Your private messenger may not be so secure after all The rules of engagement are the same as in phone or in-person conversations: Prioritize listening and understanding over reacting. If you’re struggling to interpret someone’s tone or understand what they said, ask. Reading tone in written communication is hard, and it’s always okay to ask for clarification. “When you’re having a serious conversation over text, it’s really important to understand whether you truly get the intent of the person you’re having that conversation with and not letting your emotions read into the words on the screen,” Santamaria said. “I think that’s a new skill that all of us are learning.” Talk about workplace texting boundaries Texting for business purposes has skyrocketed, Post said, but it’s still a personal communication channel above all. Before you fire off a message to your employee or boss, make sure your team has talked about boundaries. Which hours of the day can you answer text messages? Would you prefer an email or phone call instead? Advertisement Once those boundaries are set, respect them — for others and yourself. “That ‘mute notifications’ button is doing God’s work,” Markowitz said. (To turn it on with most recent iPhones, pull down the menu from the top right corner of your home screen. Tap “focus” and then “do not disturb.” On an Android phone, try swiping down to see your notifications, then swiping down again on the row of quick settings icons to see the full list. Look for “do not disturb.”) Don’t text during important real-world moments When cellphones first became widely available, it was considered rude to talk on the phone in a public place like a grocery store, Post said. Now we’re much more lax. But that makes it all the more important to notice the moments when the people around you deserve your full attention. Putting your phone away for meals, movies, performances and conversations with loved ones shows people you value them. “When someone is telling you something important or heartfelt, something meaningful to them, if something terrible has happened, these are moments you need to forget your phone and focus entirely on them,” Post said. “Give them your best good listener, which means eye contact, following the conversation and asking questions.” Help Desk: Making tech work for you Help Desk is a destination built for readers looking to better understand and take control of the technology used in everyday life. '}"
      ]
     },
     "execution_count": 7,
     "metadata": {},
     "output_type": "execute_result"
    }
   ],
   "source": [
    "# Display extracted content\n",
    "content_map"
   ]
  },
  {
   "cell_type": "code",
   "execution_count": 8,
   "metadata": {},
   "outputs": [],
   "source": [
    "# Stores the extraction results as a JSON\n",
    "\n",
    "with open('content.json', 'w+') as f:\n",
    "    json.dump(content_map, f)"
   ]
  },
  {
   "cell_type": "code",
   "execution_count": 9,
   "metadata": {},
   "outputs": [],
   "source": [
    "# Homework Task:\n",
    "# Create a python list of 10 URLs\n",
    "# Modify the above code to iteratively extract their respective page contents\n",
    "# Store all of the extraction mappings in a JSON file"
   ]
  },
  {
   "cell_type": "code",
   "execution_count": 10,
   "metadata": {},
   "outputs": [],
   "source": [
    "# That's it"
   ]
  }
 ],
 "metadata": {
  "kernelspec": {
   "display_name": "Python 3",
   "language": "python",
   "name": "python3"
  },
  "language_info": {
   "codemirror_mode": {
    "name": "ipython",
    "version": 3
   },
   "file_extension": ".py",
   "mimetype": "text/x-python",
   "name": "python",
   "nbconvert_exporter": "python",
   "pygments_lexer": "ipython3",
   "version": "3.8.10"
  }
 },
 "nbformat": 4,
 "nbformat_minor": 4
}
