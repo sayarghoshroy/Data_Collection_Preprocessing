{
 "cells": [
  {
   "cell_type": "code",
   "execution_count": 1,
   "metadata": {},
   "outputs": [
    {
     "name": "stdout",
     "output_type": "stream",
     "text": [
      "Requirement already satisfied: pandas in /home/sayar/.local/lib/python3.8/site-packages (1.3.2)\n",
      "Requirement already satisfied: python-dateutil>=2.7.3 in /usr/lib/python3/dist-packages (from pandas) (2.7.3)\n",
      "Requirement already satisfied: pytz>=2017.3 in /usr/lib/python3/dist-packages (from pandas) (2019.3)\n",
      "Requirement already satisfied: numpy>=1.17.3 in /home/sayar/.local/lib/python3.8/site-packages (from pandas) (1.21.2)\n",
      "Requirement already satisfied: numpy in /home/sayar/.local/lib/python3.8/site-packages (1.21.2)\n"
     ]
    }
   ],
   "source": [
    "!pip install pandas\n",
    "!pip install numpy"
   ]
  },
  {
   "cell_type": "code",
   "execution_count": 2,
   "metadata": {},
   "outputs": [],
   "source": [
    "import pandas as pd\n",
    "import numpy as np"
   ]
  },
  {
   "cell_type": "code",
   "execution_count": 3,
   "metadata": {},
   "outputs": [
    {
     "data": {
      "text/html": [
       "<div>\n",
       "<style scoped>\n",
       "    .dataframe tbody tr th:only-of-type {\n",
       "        vertical-align: middle;\n",
       "    }\n",
       "\n",
       "    .dataframe tbody tr th {\n",
       "        vertical-align: top;\n",
       "    }\n",
       "\n",
       "    .dataframe thead th {\n",
       "        text-align: right;\n",
       "    }\n",
       "</style>\n",
       "<table border=\"1\" class=\"dataframe\">\n",
       "  <thead>\n",
       "    <tr style=\"text-align: right;\">\n",
       "      <th></th>\n",
       "      <th>Month</th>\n",
       "      <th>Sales</th>\n",
       "    </tr>\n",
       "  </thead>\n",
       "  <tbody>\n",
       "    <tr>\n",
       "      <th>0</th>\n",
       "      <td>1960-01</td>\n",
       "      <td>6550</td>\n",
       "    </tr>\n",
       "    <tr>\n",
       "      <th>1</th>\n",
       "      <td>1960-02</td>\n",
       "      <td>8728</td>\n",
       "    </tr>\n",
       "    <tr>\n",
       "      <th>2</th>\n",
       "      <td>1960-03</td>\n",
       "      <td>12026</td>\n",
       "    </tr>\n",
       "    <tr>\n",
       "      <th>3</th>\n",
       "      <td>1960-04</td>\n",
       "      <td>14395</td>\n",
       "    </tr>\n",
       "    <tr>\n",
       "      <th>4</th>\n",
       "      <td>1960-05</td>\n",
       "      <td>14587</td>\n",
       "    </tr>\n",
       "    <tr>\n",
       "      <th>...</th>\n",
       "      <td>...</td>\n",
       "      <td>...</td>\n",
       "    </tr>\n",
       "    <tr>\n",
       "      <th>103</th>\n",
       "      <td>1968-08</td>\n",
       "      <td>16722</td>\n",
       "    </tr>\n",
       "    <tr>\n",
       "      <th>104</th>\n",
       "      <td>1968-09</td>\n",
       "      <td>14385</td>\n",
       "    </tr>\n",
       "    <tr>\n",
       "      <th>105</th>\n",
       "      <td>1968-10</td>\n",
       "      <td>21342</td>\n",
       "    </tr>\n",
       "    <tr>\n",
       "      <th>106</th>\n",
       "      <td>1968-11</td>\n",
       "      <td>17180</td>\n",
       "    </tr>\n",
       "    <tr>\n",
       "      <th>107</th>\n",
       "      <td>1968-12</td>\n",
       "      <td>14577</td>\n",
       "    </tr>\n",
       "  </tbody>\n",
       "</table>\n",
       "<p>108 rows × 2 columns</p>\n",
       "</div>"
      ],
      "text/plain": [
       "       Month  Sales\n",
       "0    1960-01   6550\n",
       "1    1960-02   8728\n",
       "2    1960-03  12026\n",
       "3    1960-04  14395\n",
       "4    1960-05  14587\n",
       "..       ...    ...\n",
       "103  1968-08  16722\n",
       "104  1968-09  14385\n",
       "105  1968-10  21342\n",
       "106  1968-11  17180\n",
       "107  1968-12  14577\n",
       "\n",
       "[108 rows x 2 columns]"
      ]
     },
     "execution_count": 3,
     "metadata": {},
     "output_type": "execute_result"
    }
   ],
   "source": [
    "# Reading and displaying the dataframe\n",
    "\n",
    "df = pd.read_csv('sales.csv')\n",
    "df"
   ]
  },
  {
   "cell_type": "code",
   "execution_count": 4,
   "metadata": {},
   "outputs": [],
   "source": [
    "# Store all of the sales figures in a list\n",
    "all_sales = df.Sales.tolist()"
   ]
  },
  {
   "cell_type": "code",
   "execution_count": 5,
   "metadata": {},
   "outputs": [
    {
     "data": {
      "text/plain": [
       "list"
      ]
     },
     "execution_count": 5,
     "metadata": {},
     "output_type": "execute_result"
    }
   ],
   "source": [
    "# Checking the data type of 'all_sales'\n",
    "type(all_sales)"
   ]
  },
  {
   "cell_type": "code",
   "execution_count": 6,
   "metadata": {},
   "outputs": [
    {
     "data": {
      "text/plain": [
       "108"
      ]
     },
     "execution_count": 6,
     "metadata": {},
     "output_type": "execute_result"
    }
   ],
   "source": [
    "# Checking number of elements in 'all_sales'\n",
    "len(all_sales)"
   ]
  },
  {
   "cell_type": "code",
   "execution_count": 7,
   "metadata": {},
   "outputs": [],
   "source": [
    "# Convert the 'all_sales' list to a numpy array\n",
    "all_sales_array = np.asarray(all_sales)"
   ]
  },
  {
   "cell_type": "code",
   "execution_count": 8,
   "metadata": {},
   "outputs": [
    {
     "data": {
      "text/plain": [
       "numpy.ndarray"
      ]
     },
     "execution_count": 8,
     "metadata": {},
     "output_type": "execute_result"
    }
   ],
   "source": [
    "# Checking the data type of 'all_sales_array'\n",
    "type(all_sales_array)"
   ]
  },
  {
   "cell_type": "code",
   "execution_count": 9,
   "metadata": {},
   "outputs": [
    {
     "data": {
      "text/plain": [
       "array([ 6550,  8728, 12026, 14395, 14587, 13791,  9498,  8251,  7049,\n",
       "        9545,  9364,  8456,  7237,  9374, 11837, 13784, 15926, 13821,\n",
       "       11143,  7975,  7610, 10015, 12759,  8816, 10677, 10947, 15200,\n",
       "       17010, 20900, 16205, 12143,  8997,  5568, 11474, 12256, 10583,\n",
       "       10862, 10965, 14405, 20379, 20128, 17816, 12268,  8642,  7962,\n",
       "       13932, 15936, 12628, 12267, 12470, 18944, 21259, 22015, 18581,\n",
       "       15175, 10306, 10792, 14752, 13754, 11738, 12181, 12965, 19990,\n",
       "       23125, 23541, 21247, 15189, 14767, 10895, 17130, 17697, 16611,\n",
       "       12674, 12760, 20249, 22135, 20677, 19933, 15388, 15113, 13401,\n",
       "       16135, 17562, 14720, 12225, 11608, 20985, 19692, 24081, 22114,\n",
       "       14220, 13434, 13598, 17187, 16119, 13713, 13210, 14251, 20139,\n",
       "       21725, 26099, 21084, 18024, 16722, 14385, 21342, 17180, 14577])"
      ]
     },
     "execution_count": 9,
     "metadata": {},
     "output_type": "execute_result"
    }
   ],
   "source": [
    "# Displaying 'all_sales_array'\n",
    "all_sales_array"
   ]
  },
  {
   "cell_type": "code",
   "execution_count": 10,
   "metadata": {},
   "outputs": [
    {
     "name": "stdout",
     "output_type": "stream",
     "text": [
      "Total Sales = 1576272\n"
     ]
    }
   ],
   "source": [
    "# Computing total sales\n",
    "total_sales = np.sum(all_sales_array)\n",
    "print('Total Sales = ' + str(total_sales))"
   ]
  },
  {
   "cell_type": "code",
   "execution_count": 11,
   "metadata": {},
   "outputs": [
    {
     "name": "stdout",
     "output_type": "stream",
     "text": [
      "Average Sales = 14595.111111111111\n"
     ]
    }
   ],
   "source": [
    "# Computing average sales\n",
    "average_sales = np.mean(all_sales_array)\n",
    "print('Average Sales = ' + str(average_sales))"
   ]
  },
  {
   "cell_type": "code",
   "execution_count": 12,
   "metadata": {},
   "outputs": [
    {
     "name": "stdout",
     "output_type": "stream",
     "text": [
      "Total Sales = 1576272\n"
     ]
    }
   ],
   "source": [
    "# Tip: numpy functions can work on lists directly\n",
    "\n",
    "total_sales = np.sum(all_sales)\n",
    "print('Total Sales = ' + str(total_sales))"
   ]
  },
  {
   "cell_type": "code",
   "execution_count": 13,
   "metadata": {},
   "outputs": [
    {
     "name": "stdout",
     "output_type": "stream",
     "text": [
      "[10186.666666666666, 10858.083333333334, 12663.333333333334, 13826.916666666666, 15171.083333333334, 17111.5, 16728.916666666668, 16581.333333333332, 18228.166666666668]\n"
     ]
    }
   ],
   "source": [
    "# Task 1: Computing yearly average sales\n",
    "# Data for 9 years, in groups of 12 months\n",
    "\n",
    "size = len(all_sales)\n",
    "\n",
    "number_of_years = int(size / 12)\n",
    "\n",
    "yearly_means = []\n",
    "\n",
    "for index in range(number_of_years):\n",
    "    \n",
    "    start = index * 12\n",
    "    end = (index + 1) * 12\n",
    "    \n",
    "    year_figures = all_sales[start : end]\n",
    "    \n",
    "    year_avg = np.mean(year_figures)\n",
    "    \n",
    "    yearly_means.append(year_avg)\n",
    "    \n",
    "print(yearly_means)"
   ]
  },
  {
   "cell_type": "code",
   "execution_count": 14,
   "metadata": {},
   "outputs": [
    {
     "name": "stdout",
     "output_type": "stream",
     "text": [
      "[9101.333333333334, 14257.666666666666, 8266.0, 9121.666666666666, 9482.666666666666, 14510.333333333334, 8909.333333333334, 10530.0, 12274.666666666666, 18038.333333333332, 8902.666666666666, 11437.666666666666, 12077.333333333334, 19441.0, 9624.0, 14165.333333333334, 14560.333333333334, 20618.333333333332, 12091.0, 13414.666666666666, 15045.333333333334, 22637.666666666668, 13617.0, 17146.0, 15227.666666666666, 20915.0, 14634.0, 16139.0, 14939.333333333334, 21962.333333333332, 13750.666666666666, 15673.0, 15866.666666666666, 22969.333333333332, 16377.0, 17699.666666666668]\n"
     ]
    }
   ],
   "source": [
    "# Task 2: Modify the solution in Task 1 above to compute quarterly average sales\n",
    "# Data for 9 years translates to 36 quarters\n",
    "\n",
    "# Possible Solution:\n",
    "\n",
    "size = len(all_sales)\n",
    "\n",
    "number_of_quarters = int(size / 3)\n",
    "\n",
    "quarterly_means = []\n",
    "\n",
    "for index in range(number_of_quarters):\n",
    "    \n",
    "    start = index * 3\n",
    "    end = (index + 1) * 3\n",
    "    \n",
    "    quarter_figures = all_sales[start : end]\n",
    "    \n",
    "    quarter_avg = np.mean(quarter_figures)\n",
    "    \n",
    "    quarterly_means.append(quarter_avg)\n",
    "    \n",
    "print(quarterly_means)"
   ]
  },
  {
   "cell_type": "code",
   "execution_count": 15,
   "metadata": {},
   "outputs": [],
   "source": [
    "# That's it"
   ]
  }
 ],
 "metadata": {
  "kernelspec": {
   "display_name": "Python 3",
   "language": "python",
   "name": "python3"
  },
  "language_info": {
   "codemirror_mode": {
    "name": "ipython",
    "version": 3
   },
   "file_extension": ".py",
   "mimetype": "text/x-python",
   "name": "python",
   "nbconvert_exporter": "python",
   "pygments_lexer": "ipython3",
   "version": "3.8.10"
  }
 },
 "nbformat": 4,
 "nbformat_minor": 4
}
