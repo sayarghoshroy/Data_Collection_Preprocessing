{
 "cells": [
  {
   "cell_type": "code",
   "execution_count": 1,
   "metadata": {
    "id": "eHm18njRzRnm"
   },
   "outputs": [],
   "source": [
    "import requests\n",
    "\n",
    "params = {\n",
    "  'access_key': '723c2d34f7e6e3489ae19b48509ee6df'\n",
    "}\n",
    "\n",
    "api_result = requests.get('http://api.marketstack.com/v1/tickers/aapl/eod', params)\n",
    "\n",
    "api_response = api_result.json()"
   ]
  },
  {
   "cell_type": "code",
   "execution_count": 2,
   "metadata": {
    "colab": {
     "base_uri": "https://localhost:8080/"
    },
    "id": "hVx-hO5xzVGN",
    "outputId": "96c72a82-aa35-4d21-aa28-426cc8b7c179"
   },
   "outputs": [
    {
     "name": "stdout",
     "output_type": "stream",
     "text": [
      "1. pagination\n",
      "2. data\n"
     ]
    }
   ],
   "source": [
    "for index, key in enumerate(api_response.keys()):\n",
    "  print(str(index + 1) + '. ' + str(key))"
   ]
  },
  {
   "cell_type": "code",
   "execution_count": 3,
   "metadata": {
    "colab": {
     "base_uri": "https://localhost:8080/"
    },
    "id": "BWzS8L6GzWy6",
    "outputId": "92fb7859-d1b4-460a-ccac-5b2601a85d31"
   },
   "outputs": [
    {
     "name": "stdout",
     "output_type": "stream",
     "text": [
      "Number of fields in data: 6\n",
      "\n",
      "name: Apple Inc\n",
      "symbol: AAPL\n",
      "country: None\n",
      "has_intraday: False\n",
      "has_eod: True\n",
      "eod: [{'open': 145.66, 'high': 147.47, 'low': 145.57, 'close': 146.92, 'volume': 53477869.0, 'adj_high': None, 'adj_low': None, 'adj_close': 146.92, 'adj_open': None, 'adj_volume': None, 'split_factor': 1.0, 'symbol': 'AAPL', 'exchange': 'XNAS', 'date': '2021-09-24T00:00:00+0000'}, {'open': 146.65, 'high': 147.08, 'low': 145.64, 'close': 146.83, 'volume': 64838170.0, 'adj_high': None, 'adj_low': None, 'adj_close': 146.83, 'adj_open': None, 'adj_volume': None, 'split_factor': 1.0, 'symbol': 'AAPL', 'exchange': 'XNAS', 'date': '2021-09-23T00:00:00+0000'}, {'open': 144.45, 'high': 146.43, 'low': 143.7001, 'close': 145.85, 'volume': 76404341.0, 'adj_high': None, 'adj_low': None, 'adj_close': 145.85, 'adj_open': None, 'adj_volume': None, 'split_factor': 1.0, 'symbol': 'AAPL', 'exchange': 'XNAS', 'date': '2021-09-22T00:00:00+0000'}, {'open': 143.93, 'high': 144.6, 'low': 142.78, 'close': 143.43, 'volume': 75833962.0, 'adj_high': None, 'adj_low': None, 'adj_close': 143.43, 'adj_open': None, 'adj_volume': None, 'split_factor': 1.0, 'symbol': 'AAPL', 'exchange': 'XNAS', 'date': '2021-09-21T00:00:00+0000'}, {'open': 143.8, 'high': 144.84, 'low': 141.28, 'close': 142.94, 'volume': 123478863.0, 'adj_high': None, 'adj_low': None, 'adj_close': 142.94, 'adj_open': None, 'adj_volume': None, 'split_factor': 1.0, 'symbol': 'AAPL', 'exchange': 'XNAS', 'date': '2021-09-20T00:00:00+0000'}, {'open': 148.82, 'high': 148.82, 'low': 145.76, 'close': 146.06, 'volume': 129728700.0, 'adj_high': None, 'adj_low': None, 'adj_close': 146.06, 'adj_open': None, 'adj_volume': None, 'split_factor': 1.0, 'symbol': 'AAPL', 'exchange': 'XNAS', 'date': '2021-09-17T00:00:00+0000'}, {'open': 148.44, 'high': 148.9684, 'low': 147.221, 'close': 148.79, 'volume': 67901433.0, 'adj_high': None, 'adj_low': None, 'adj_close': 148.79, 'adj_open': None, 'adj_volume': None, 'split_factor': 1.0, 'symbol': 'AAPL', 'exchange': 'XNAS', 'date': '2021-09-16T00:00:00+0000'}, {'open': 148.56, 'high': 149.44, 'low': 146.37, 'close': 149.03, 'volume': 79159981.0, 'adj_high': None, 'adj_low': None, 'adj_close': 149.03, 'adj_open': None, 'adj_volume': None, 'split_factor': 1.0, 'symbol': 'AAPL', 'exchange': 'XNAS', 'date': '2021-09-15T00:00:00+0000'}, {'open': 150.35, 'high': 151.07, 'low': 146.91, 'close': 148.12, 'volume': 109296295.0, 'adj_high': None, 'adj_low': None, 'adj_close': 148.12, 'adj_open': None, 'adj_volume': None, 'split_factor': 1.0, 'symbol': 'AAPL', 'exchange': 'XNAS', 'date': '2021-09-14T00:00:00+0000'}, {'open': 150.63, 'high': 151.41, 'low': 148.75, 'close': 149.55, 'volume': 102404329.0, 'adj_high': None, 'adj_low': None, 'adj_close': 149.55, 'adj_open': None, 'adj_volume': None, 'split_factor': 1.0, 'symbol': 'AAPL', 'exchange': 'XNAS', 'date': '2021-09-13T00:00:00+0000'}, {'open': 155.0, 'high': 155.48, 'low': 148.7, 'close': 148.97, 'volume': 140646400.0, 'adj_high': None, 'adj_low': None, 'adj_close': 148.97, 'adj_open': None, 'adj_volume': None, 'split_factor': 1.0, 'symbol': 'AAPL', 'exchange': 'XNAS', 'date': '2021-09-10T00:00:00+0000'}, {'open': 155.49, 'high': 156.11, 'low': 153.95, 'close': 154.07, 'volume': 54962409.0, 'adj_high': None, 'adj_low': None, 'adj_close': 154.07, 'adj_open': None, 'adj_volume': None, 'split_factor': 1.0, 'symbol': 'AAPL', 'exchange': 'XNAS', 'date': '2021-09-09T00:00:00+0000'}, {'open': 156.98, 'high': 157.04, 'low': 153.975, 'close': 155.11, 'volume': 74160481.0, 'adj_high': None, 'adj_low': None, 'adj_close': 155.11, 'adj_open': None, 'adj_volume': None, 'split_factor': 1.0, 'symbol': 'AAPL', 'exchange': 'XNAS', 'date': '2021-09-08T00:00:00+0000'}, {'open': 154.97, 'high': 157.26, 'low': 154.39, 'close': 156.69, 'volume': 80079257.0, 'adj_high': None, 'adj_low': None, 'adj_close': 156.69, 'adj_open': None, 'adj_volume': None, 'split_factor': 1.0, 'symbol': 'AAPL', 'exchange': 'XNAS', 'date': '2021-09-07T00:00:00+0000'}, {'open': 153.76, 'high': 154.63, 'low': 153.09, 'close': 154.3, 'volume': 57808700.0, 'adj_high': None, 'adj_low': None, 'adj_close': 154.3, 'adj_open': None, 'adj_volume': None, 'split_factor': 1.0, 'symbol': 'AAPL', 'exchange': 'XNAS', 'date': '2021-09-03T00:00:00+0000'}, {'open': 153.87, 'high': 154.72, 'low': 152.4, 'close': 153.65, 'volume': 69600446.0, 'adj_high': None, 'adj_low': None, 'adj_close': 153.65, 'adj_open': None, 'adj_volume': None, 'split_factor': 1.0, 'symbol': 'AAPL', 'exchange': 'XNAS', 'date': '2021-09-02T00:00:00+0000'}, {'open': 152.83, 'high': 154.98, 'low': 152.34, 'close': 152.51, 'volume': 80313711.0, 'adj_high': None, 'adj_low': None, 'adj_close': 152.51, 'adj_open': None, 'adj_volume': None, 'split_factor': 1.0, 'symbol': 'AAPL', 'exchange': 'XNAS', 'date': '2021-09-01T00:00:00+0000'}, {'open': 152.66, 'high': 152.8, 'low': 151.29, 'close': 151.83, 'volume': 86453117.0, 'adj_high': None, 'adj_low': None, 'adj_close': 151.83, 'adj_open': None, 'adj_volume': None, 'split_factor': 1.0, 'symbol': 'AAPL', 'exchange': 'XNAS', 'date': '2021-08-31T00:00:00+0000'}, {'open': 149.0, 'high': 153.49, 'low': 148.61, 'close': 153.12, 'volume': 90956723.0, 'adj_high': None, 'adj_low': None, 'adj_close': 153.12, 'adj_open': None, 'adj_volume': None, 'split_factor': 1.0, 'symbol': 'AAPL', 'exchange': 'XNAS', 'date': '2021-08-30T00:00:00+0000'}, {'open': 147.48, 'high': 148.75, 'low': 146.83, 'close': 148.6, 'volume': 55721500.0, 'adj_high': None, 'adj_low': None, 'adj_close': 148.6, 'adj_open': None, 'adj_volume': None, 'split_factor': 1.0, 'symbol': 'AAPL', 'exchange': 'XNAS', 'date': '2021-08-27T00:00:00+0000'}, {'open': 148.35, 'high': 149.12, 'low': 147.51, 'close': 147.54, 'volume': 47601827.0, 'adj_high': None, 'adj_low': None, 'adj_close': 147.54, 'adj_open': None, 'adj_volume': None, 'split_factor': 1.0, 'symbol': 'AAPL', 'exchange': 'XNAS', 'date': '2021-08-26T00:00:00+0000'}, {'open': 149.81, 'high': 150.32, 'low': 147.8, 'close': 148.36, 'volume': 57790733.0, 'adj_high': None, 'adj_low': None, 'adj_close': 148.36, 'adj_open': None, 'adj_volume': None, 'split_factor': 1.0, 'symbol': 'AAPL', 'exchange': 'XNAS', 'date': '2021-08-25T00:00:00+0000'}, {'open': 149.45, 'high': 150.86, 'low': 149.15, 'close': 149.62, 'volume': 48606428.0, 'adj_high': None, 'adj_low': None, 'adj_close': 149.62, 'adj_open': None, 'adj_volume': None, 'split_factor': 1.0, 'symbol': 'AAPL', 'exchange': 'XNAS', 'date': '2021-08-24T00:00:00+0000'}, {'open': 148.31, 'high': 150.19, 'low': 147.89, 'close': 149.71, 'volume': 60131810.0, 'adj_high': None, 'adj_low': None, 'adj_close': 149.71, 'adj_open': None, 'adj_volume': None, 'split_factor': 1.0, 'symbol': 'AAPL', 'exchange': 'XNAS', 'date': '2021-08-23T00:00:00+0000'}, {'open': 147.44, 'high': 148.5, 'low': 146.78, 'close': 148.19, 'volume': 59947400.0, 'adj_high': None, 'adj_low': None, 'adj_close': 148.19, 'adj_open': None, 'adj_volume': None, 'split_factor': 1.0, 'symbol': 'AAPL', 'exchange': 'XNAS', 'date': '2021-08-20T00:00:00+0000'}, {'open': 145.03, 'high': 148.0, 'low': 144.52, 'close': 146.7, 'volume': 81030081.0, 'adj_high': None, 'adj_low': None, 'adj_close': 146.7, 'adj_open': None, 'adj_volume': None, 'split_factor': 1.0, 'symbol': 'AAPL', 'exchange': 'XNAS', 'date': '2021-08-19T00:00:00+0000'}, {'open': 149.8, 'high': 150.71, 'low': 146.15, 'close': 146.36, 'volume': 86325990.0, 'adj_high': None, 'adj_low': None, 'adj_close': 146.36, 'adj_open': None, 'adj_volume': None, 'split_factor': 1.0, 'symbol': 'AAPL', 'exchange': 'XNAS', 'date': '2021-08-18T00:00:00+0000'}, {'open': 150.23, 'high': 151.68, 'low': 149.09, 'close': 150.19, 'volume': 91690172.0, 'adj_high': None, 'adj_low': None, 'adj_close': 150.19, 'adj_open': None, 'adj_volume': None, 'split_factor': 1.0, 'symbol': 'AAPL', 'exchange': 'XNAS', 'date': '2021-08-17T00:00:00+0000'}, {'open': 148.535, 'high': 151.13, 'low': 146.47, 'close': 151.12, 'volume': 103558782.0, 'adj_high': None, 'adj_low': None, 'adj_close': 151.12, 'adj_open': None, 'adj_volume': None, 'split_factor': 1.0, 'symbol': 'AAPL', 'exchange': 'XNAS', 'date': '2021-08-16T00:00:00+0000'}, {'open': 148.97, 'high': 149.44, 'low': 148.27, 'close': 149.1, 'volume': 59318800.0, 'adj_high': None, 'adj_low': None, 'adj_close': 149.1, 'adj_open': None, 'adj_volume': None, 'split_factor': 1.0, 'symbol': 'AAPL', 'exchange': 'XNAS', 'date': '2021-08-13T00:00:00+0000'}, {'open': 146.19, 'high': 149.05, 'low': 145.84, 'close': 148.89, 'volume': 72282600.0, 'adj_high': None, 'adj_low': None, 'adj_close': 148.89, 'adj_open': None, 'adj_volume': None, 'split_factor': 1.0, 'symbol': 'AAPL', 'exchange': 'XNAS', 'date': '2021-08-12T00:00:00+0000'}, {'open': 146.05, 'high': 146.718, 'low': 145.53, 'close': 145.86, 'volume': 48493463.0, 'adj_high': None, 'adj_low': None, 'adj_close': 145.86, 'adj_open': None, 'adj_volume': None, 'split_factor': 1.0, 'symbol': 'AAPL', 'exchange': 'XNAS', 'date': '2021-08-11T00:00:00+0000'}, {'open': 146.44, 'high': 147.71, 'low': 145.3, 'close': 145.6, 'volume': 69023081.0, 'adj_high': None, 'adj_low': None, 'adj_close': 145.6, 'adj_open': None, 'adj_volume': None, 'split_factor': 1.0, 'symbol': 'AAPL', 'exchange': 'XNAS', 'date': '2021-08-10T00:00:00+0000'}, {'open': 146.2, 'high': 146.7, 'low': 145.52, 'close': 146.09, 'volume': 48802159.0, 'adj_high': None, 'adj_low': None, 'adj_close': 146.09, 'adj_open': None, 'adj_volume': None, 'split_factor': 1.0, 'symbol': 'AAPL', 'exchange': 'XNAS', 'date': '2021-08-09T00:00:00+0000'}, {'open': 146.35, 'high': 147.11, 'low': 145.63, 'close': 146.14, 'volume': 54067400.0, 'adj_high': None, 'adj_low': None, 'adj_close': 146.14, 'adj_open': None, 'adj_volume': None, 'split_factor': 1.0, 'symbol': 'AAPL', 'exchange': 'XNAS', 'date': '2021-08-06T00:00:00+0000'}, {'open': 146.98, 'high': 147.84, 'low': 146.17, 'close': 147.06, 'volume': 46236448.0, 'adj_high': None, 'adj_low': None, 'adj_close': 147.06, 'adj_open': None, 'adj_volume': None, 'split_factor': 1.0, 'symbol': 'AAPL', 'exchange': 'XNAS', 'date': '2021-08-05T00:00:00+0000'}, {'open': 147.27, 'high': 147.79, 'low': 146.28, 'close': 146.95, 'volume': 53941624.0, 'adj_high': None, 'adj_low': None, 'adj_close': 146.95, 'adj_open': None, 'adj_volume': None, 'split_factor': 1.0, 'symbol': 'AAPL', 'exchange': 'XNAS', 'date': '2021-08-04T00:00:00+0000'}, {'open': 145.81, 'high': 148.04, 'low': 145.18, 'close': 147.36, 'volume': 64433620.0, 'adj_high': None, 'adj_low': None, 'adj_close': 147.36, 'adj_open': None, 'adj_volume': None, 'split_factor': 1.0, 'symbol': 'AAPL', 'exchange': 'XNAS', 'date': '2021-08-03T00:00:00+0000'}, {'open': 146.36, 'high': 146.95, 'low': 145.25, 'close': 145.52, 'volume': 60129097.0, 'adj_high': None, 'adj_low': None, 'adj_close': 145.52, 'adj_open': None, 'adj_volume': None, 'split_factor': 1.0, 'symbol': 'AAPL', 'exchange': 'XNAS', 'date': '2021-08-02T00:00:00+0000'}, {'open': 144.38, 'high': 146.33, 'low': 144.11, 'close': 145.86, 'volume': 70382000.0, 'adj_high': None, 'adj_low': None, 'adj_close': 145.86, 'adj_open': None, 'adj_volume': None, 'split_factor': 1.0, 'symbol': 'AAPL', 'exchange': 'XNAS', 'date': '2021-07-30T00:00:00+0000'}, {'open': 144.685, 'high': 146.47, 'low': 144.58, 'close': 145.64, 'volume': 52800323.0, 'adj_high': None, 'adj_low': None, 'adj_close': 145.64, 'adj_open': None, 'adj_volume': None, 'split_factor': 1.0, 'symbol': 'AAPL', 'exchange': 'XNAS', 'date': '2021-07-29T00:00:00+0000'}, {'open': 144.81, 'high': 146.96, 'low': 142.54, 'close': 144.98, 'volume': 113982837.0, 'adj_high': None, 'adj_low': None, 'adj_close': 144.98, 'adj_open': None, 'adj_volume': None, 'split_factor': 1.0, 'symbol': 'AAPL', 'exchange': 'XNAS', 'date': '2021-07-28T00:00:00+0000'}, {'open': 149.12, 'high': 149.2, 'low': 145.55, 'close': 146.77, 'volume': 94028352.0, 'adj_high': None, 'adj_low': None, 'adj_close': 146.77, 'adj_open': None, 'adj_volume': None, 'split_factor': 1.0, 'symbol': 'AAPL', 'exchange': 'XNAS', 'date': '2021-07-27T00:00:00+0000'}, {'open': 148.27, 'high': 149.83, 'low': 147.7, 'close': 148.99, 'volume': 71987172.0, 'adj_high': None, 'adj_low': None, 'adj_close': 148.99, 'adj_open': None, 'adj_volume': None, 'split_factor': 1.0, 'symbol': 'AAPL', 'exchange': 'XNAS', 'date': '2021-07-26T00:00:00+0000'}, {'open': 147.55, 'high': 148.72, 'low': 146.92, 'close': 148.56, 'volume': 71361600.0, 'adj_high': None, 'adj_low': None, 'adj_close': 148.56, 'adj_open': None, 'adj_volume': None, 'split_factor': 1.0, 'symbol': 'AAPL', 'exchange': 'XNAS', 'date': '2021-07-23T00:00:00+0000'}, {'open': 145.935, 'high': 148.195, 'low': 145.81, 'close': 146.8, 'volume': 74144058.0, 'adj_high': None, 'adj_low': None, 'adj_close': 146.8, 'adj_open': None, 'adj_volume': None, 'split_factor': 1.0, 'symbol': 'AAPL', 'exchange': 'XNAS', 'date': '2021-07-22T00:00:00+0000'}, {'open': 145.53, 'high': 146.13, 'low': 144.63, 'close': 145.4, 'volume': 71439047.0, 'adj_high': None, 'adj_low': None, 'adj_close': 145.4, 'adj_open': None, 'adj_volume': None, 'split_factor': 1.0, 'symbol': 'AAPL', 'exchange': 'XNAS', 'date': '2021-07-21T00:00:00+0000'}, {'open': 143.46, 'high': 147.0997, 'low': 142.96, 'close': 146.15, 'volume': 95496549.0, 'adj_high': None, 'adj_low': None, 'adj_close': 146.15, 'adj_open': None, 'adj_volume': None, 'split_factor': 1.0, 'symbol': 'AAPL', 'exchange': 'XNAS', 'date': '2021-07-20T00:00:00+0000'}, {'open': 143.75, 'high': 144.07, 'low': 141.67, 'close': 142.45, 'volume': 116136809.0, 'adj_high': None, 'adj_low': None, 'adj_close': 142.45, 'adj_open': None, 'adj_volume': None, 'split_factor': 1.0, 'symbol': 'AAPL', 'exchange': 'XNAS', 'date': '2021-07-19T00:00:00+0000'}, {'open': 148.46, 'high': 149.76, 'low': 145.88, 'close': 146.39, 'volume': 93100300.0, 'adj_high': None, 'adj_low': None, 'adj_close': 146.39, 'adj_open': None, 'adj_volume': None, 'split_factor': 1.0, 'symbol': 'AAPL', 'exchange': 'XNAS', 'date': '2021-07-16T00:00:00+0000'}, {'open': 149.24, 'high': 150.0, 'low': 147.095, 'close': 148.48, 'volume': 104023741.0, 'adj_high': None, 'adj_low': None, 'adj_close': 148.48, 'adj_open': None, 'adj_volume': None, 'split_factor': 1.0, 'symbol': 'AAPL', 'exchange': 'XNAS', 'date': '2021-07-15T00:00:00+0000'}, {'open': 148.1, 'high': 149.57, 'low': 147.68, 'close': 149.15, 'volume': 127050785.0, 'adj_high': None, 'adj_low': None, 'adj_close': 149.15, 'adj_open': None, 'adj_volume': None, 'split_factor': 1.0, 'symbol': 'AAPL', 'exchange': 'XNAS', 'date': '2021-07-14T00:00:00+0000'}, {'open': 144.03, 'high': 147.46, 'low': 143.63, 'close': 145.64, 'volume': 98214828.0, 'adj_high': None, 'adj_low': None, 'adj_close': 145.64, 'adj_open': None, 'adj_volume': None, 'split_factor': 1.0, 'symbol': 'AAPL', 'exchange': 'XNAS', 'date': '2021-07-13T00:00:00+0000'}, {'open': 146.21, 'high': 146.32, 'low': 144.0, 'close': 144.5, 'volume': 73241264.0, 'adj_high': None, 'adj_low': None, 'adj_close': 144.5, 'adj_open': None, 'adj_volume': None, 'split_factor': 1.0, 'symbol': 'AAPL', 'exchange': 'XNAS', 'date': '2021-07-12T00:00:00+0000'}, {'open': 142.75, 'high': 145.65, 'low': 142.65, 'close': 145.11, 'volume': 99788400.0, 'adj_high': None, 'adj_low': None, 'adj_close': 145.11, 'adj_open': None, 'adj_volume': None, 'split_factor': 1.0, 'symbol': 'AAPL', 'exchange': 'XNAS', 'date': '2021-07-09T00:00:00+0000'}, {'open': 141.58, 'high': 144.06, 'low': 140.67, 'close': 143.24, 'volume': 103561917.0, 'adj_high': None, 'adj_low': None, 'adj_close': 143.24, 'adj_open': None, 'adj_volume': None, 'split_factor': 1.0, 'symbol': 'AAPL', 'exchange': 'XNAS', 'date': '2021-07-08T00:00:00+0000'}, {'open': 143.535, 'high': 144.89, 'low': 142.66, 'close': 144.57, 'volume': 104591949.0, 'adj_high': None, 'adj_low': None, 'adj_close': 144.57, 'adj_open': None, 'adj_volume': None, 'split_factor': 1.0, 'symbol': 'AAPL', 'exchange': 'XNAS', 'date': '2021-07-07T00:00:00+0000'}, {'open': 140.07, 'high': 143.15, 'low': 140.07, 'close': 142.02, 'volume': 108181793.0, 'adj_high': None, 'adj_low': None, 'adj_close': 142.02, 'adj_open': None, 'adj_volume': None, 'split_factor': 1.0, 'symbol': 'AAPL', 'exchange': 'XNAS', 'date': '2021-07-06T00:00:00+0000'}, {'open': 137.9, 'high': 140.0, 'low': 137.75, 'close': 139.96, 'volume': 78852600.0, 'adj_high': None, 'adj_low': None, 'adj_close': 139.96, 'adj_open': None, 'adj_volume': None, 'split_factor': 1.0, 'symbol': 'AAPL', 'exchange': 'XNAS', 'date': '2021-07-02T00:00:00+0000'}, {'open': 136.6, 'high': 137.33, 'low': 135.76, 'close': 137.27, 'volume': 52485781.0, 'adj_high': None, 'adj_low': None, 'adj_close': 137.27, 'adj_open': None, 'adj_volume': None, 'split_factor': 1.0, 'symbol': 'AAPL', 'exchange': 'XNAS', 'date': '2021-07-01T00:00:00+0000'}, {'open': 136.17, 'high': 137.4, 'low': 135.87, 'close': 136.96, 'volume': 63261393.0, 'adj_high': None, 'adj_low': None, 'adj_close': 136.96, 'adj_open': None, 'adj_volume': None, 'split_factor': 1.0, 'symbol': 'AAPL', 'exchange': 'XNAS', 'date': '2021-06-30T00:00:00+0000'}, {'open': 134.8, 'high': 136.49, 'low': 134.3599, 'close': 136.33, 'volume': 64556081.0, 'adj_high': None, 'adj_low': None, 'adj_close': 136.33, 'adj_open': None, 'adj_volume': None, 'split_factor': 1.0, 'symbol': 'AAPL', 'exchange': 'XNAS', 'date': '2021-06-29T00:00:00+0000'}, {'open': 133.41, 'high': 135.245, 'low': 133.3857, 'close': 134.78, 'volume': 62111303.0, 'adj_high': None, 'adj_low': None, 'adj_close': 134.78, 'adj_open': None, 'adj_volume': None, 'split_factor': 1.0, 'symbol': 'AAPL', 'exchange': 'XNAS', 'date': '2021-06-28T00:00:00+0000'}, {'open': 133.46, 'high': 133.89, 'low': 132.81, 'close': 133.11, 'volume': 70730700.0, 'adj_high': None, 'adj_low': None, 'adj_close': 133.11, 'adj_open': None, 'adj_volume': None, 'split_factor': 1.0, 'symbol': 'AAPL', 'exchange': 'XNAS', 'date': '2021-06-25T00:00:00+0000'}, {'open': 134.45, 'high': 134.64, 'low': 132.93, 'close': 133.41, 'volume': 68710998.0, 'adj_high': None, 'adj_low': None, 'adj_close': 133.41, 'adj_open': None, 'adj_volume': None, 'split_factor': 1.0, 'symbol': 'AAPL', 'exchange': 'XNAS', 'date': '2021-06-24T00:00:00+0000'}, {'open': 133.77, 'high': 134.32, 'low': 133.23, 'close': 133.7, 'volume': 60214200.0, 'adj_high': None, 'adj_low': None, 'adj_close': 133.7, 'adj_open': None, 'adj_volume': None, 'split_factor': 1.0, 'symbol': 'AAPL', 'exchange': 'XNAS', 'date': '2021-06-23T00:00:00+0000'}, {'open': 132.13, 'high': 134.08, 'low': 131.62, 'close': 133.98, 'volume': 74783618.0, 'adj_high': None, 'adj_low': None, 'adj_close': 133.98, 'adj_open': None, 'adj_volume': None, 'split_factor': 1.0, 'symbol': 'AAPL', 'exchange': 'XNAS', 'date': '2021-06-22T00:00:00+0000'}, {'open': 130.3, 'high': 132.41, 'low': 129.2118, 'close': 132.3, 'volume': 79663316.0, 'adj_high': None, 'adj_low': None, 'adj_close': 132.3, 'adj_open': None, 'adj_volume': None, 'split_factor': 1.0, 'symbol': 'AAPL', 'exchange': 'XNAS', 'date': '2021-06-21T00:00:00+0000'}, {'open': 130.71, 'high': 131.51, 'low': 130.25, 'close': 130.46, 'volume': 108953309.0, 'adj_high': None, 'adj_low': None, 'adj_close': 130.46, 'adj_open': None, 'adj_volume': None, 'split_factor': 1.0, 'symbol': 'AAPL', 'exchange': 'XNAS', 'date': '2021-06-18T00:00:00+0000'}, {'open': 129.8, 'high': 132.55, 'low': 129.65, 'close': 131.79, 'volume': 96230975.0, 'adj_high': None, 'adj_low': None, 'adj_close': 131.79, 'adj_open': None, 'adj_volume': None, 'split_factor': 1.0, 'symbol': 'AAPL', 'exchange': 'XNAS', 'date': '2021-06-17T00:00:00+0000'}, {'open': 130.37, 'high': 130.89, 'low': 128.461, 'close': 130.15, 'volume': 91815026.0, 'adj_high': None, 'adj_low': None, 'adj_close': 130.15, 'adj_open': None, 'adj_volume': None, 'split_factor': 1.0, 'symbol': 'AAPL', 'exchange': 'XNAS', 'date': '2021-06-16T00:00:00+0000'}, {'open': 129.94, 'high': 130.59, 'low': 129.39, 'close': 129.64, 'volume': 62345416.0, 'adj_high': None, 'adj_low': None, 'adj_close': 129.64, 'adj_open': None, 'adj_volume': None, 'split_factor': 1.0, 'symbol': 'AAPL', 'exchange': 'XNAS', 'date': '2021-06-15T00:00:00+0000'}, {'open': 127.82, 'high': 130.49, 'low': 127.07, 'close': 130.48, 'volume': 96650035.0, 'adj_high': None, 'adj_low': None, 'adj_close': 130.48, 'adj_open': None, 'adj_volume': None, 'split_factor': 1.0, 'symbol': 'AAPL', 'exchange': 'XNAS', 'date': '2021-06-14T00:00:00+0000'}, {'open': 126.53, 'high': 127.44, 'low': 126.1, 'close': 127.35, 'volume': 53415300.0, 'adj_high': None, 'adj_low': None, 'adj_close': 127.35, 'adj_open': None, 'adj_volume': None, 'split_factor': 1.0, 'symbol': 'AAPL', 'exchange': 'XNAS', 'date': '2021-06-11T00:00:00+0000'}, {'open': 127.02, 'high': 128.19, 'low': 125.94, 'close': 126.11, 'volume': 69880286.0, 'adj_high': None, 'adj_low': None, 'adj_close': 126.11, 'adj_open': None, 'adj_volume': None, 'split_factor': 1.0, 'symbol': 'AAPL', 'exchange': 'XNAS', 'date': '2021-06-10T00:00:00+0000'}, {'open': 127.21, 'high': 127.75, 'low': 126.52, 'close': 127.13, 'volume': 54895704.0, 'adj_high': None, 'adj_low': None, 'adj_close': 127.13, 'adj_open': None, 'adj_volume': None, 'split_factor': 1.0, 'symbol': 'AAPL', 'exchange': 'XNAS', 'date': '2021-06-09T00:00:00+0000'}, {'open': 126.6, 'high': 128.46, 'low': 126.2101, 'close': 126.74, 'volume': 72497627.0, 'adj_high': None, 'adj_low': None, 'adj_close': 126.74, 'adj_open': None, 'adj_volume': None, 'split_factor': 1.0, 'symbol': 'AAPL', 'exchange': 'XNAS', 'date': '2021-06-08T00:00:00+0000'}, {'open': 126.17, 'high': 126.31, 'low': 124.8321, 'close': 125.9, 'volume': 68205494.0, 'adj_high': None, 'adj_low': None, 'adj_close': 125.9, 'adj_open': None, 'adj_volume': None, 'split_factor': 1.0, 'symbol': 'AAPL', 'exchange': 'XNAS', 'date': '2021-06-07T00:00:00+0000'}, {'open': 124.07, 'high': 126.16, 'low': 123.85, 'close': 125.89, 'volume': 75087300.0, 'adj_high': None, 'adj_low': None, 'adj_close': 125.89, 'adj_open': None, 'adj_volume': None, 'split_factor': 1.0, 'symbol': 'AAPL', 'exchange': 'XNAS', 'date': '2021-06-04T00:00:00+0000'}, {'open': 124.68, 'high': 124.85, 'low': 123.13, 'close': 123.54, 'volume': 75732834.0, 'adj_high': None, 'adj_low': None, 'adj_close': 123.54, 'adj_open': None, 'adj_volume': None, 'split_factor': 1.0, 'symbol': 'AAPL', 'exchange': 'XNAS', 'date': '2021-06-03T00:00:00+0000'}, {'open': 124.28, 'high': 125.24, 'low': 124.05, 'close': 125.06, 'volume': 58418100.0, 'adj_high': None, 'adj_low': None, 'adj_close': 125.06, 'adj_open': None, 'adj_volume': None, 'split_factor': 1.0, 'symbol': 'AAPL', 'exchange': 'XNAS', 'date': '2021-06-02T00:00:00+0000'}, {'open': 125.08, 'high': 125.35, 'low': 123.945, 'close': 124.28, 'volume': 63460425.0, 'adj_high': None, 'adj_low': None, 'adj_close': 124.28, 'adj_open': None, 'adj_volume': None, 'split_factor': 1.0, 'symbol': 'AAPL', 'exchange': 'XNAS', 'date': '2021-06-01T00:00:00+0000'}, {'open': 125.57, 'high': 125.8, 'low': 124.55, 'close': 124.61, 'volume': 71232700.0, 'adj_high': None, 'adj_low': None, 'adj_close': 124.61, 'adj_open': None, 'adj_volume': None, 'split_factor': 1.0, 'symbol': 'AAPL', 'exchange': 'XNAS', 'date': '2021-05-28T00:00:00+0000'}, {'open': 126.44, 'high': 127.64, 'low': 125.28, 'close': 125.28, 'volume': 86473226.0, 'adj_high': None, 'adj_low': None, 'adj_close': 125.28, 'adj_open': None, 'adj_volume': None, 'split_factor': 1.0, 'symbol': 'AAPL', 'exchange': 'XNAS', 'date': '2021-05-27T00:00:00+0000'}, {'open': 126.955, 'high': 127.39, 'low': 126.42, 'close': 126.85, 'volume': 53175620.0, 'adj_high': None, 'adj_low': None, 'adj_close': 126.85, 'adj_open': None, 'adj_volume': None, 'split_factor': 1.0, 'symbol': 'AAPL', 'exchange': 'XNAS', 'date': '2021-05-26T00:00:00+0000'}, {'open': 127.82, 'high': 128.3168, 'low': 126.32, 'close': 126.9, 'volume': 70119179.0, 'adj_high': None, 'adj_low': None, 'adj_close': 126.9, 'adj_open': None, 'adj_volume': None, 'split_factor': 1.0, 'symbol': 'AAPL', 'exchange': 'XNAS', 'date': '2021-05-25T00:00:00+0000'}, {'open': 126.01, 'high': 127.935, 'low': 125.94, 'close': 127.1, 'volume': 61144792.0, 'adj_high': None, 'adj_low': None, 'adj_close': 127.1, 'adj_open': None, 'adj_volume': None, 'split_factor': 1.0, 'symbol': 'AAPL', 'exchange': 'XNAS', 'date': '2021-05-24T00:00:00+0000'}, {'open': 127.82, 'high': 128.0, 'low': 125.21, 'close': 125.43, 'volume': 79209300.0, 'adj_high': None, 'adj_low': None, 'adj_close': 125.43, 'adj_open': None, 'adj_volume': None, 'split_factor': 1.0, 'symbol': 'AAPL', 'exchange': 'XNAS', 'date': '2021-05-21T00:00:00+0000'}, {'open': 125.23, 'high': 127.7156, 'low': 125.1, 'close': 127.31, 'volume': 72824171.0, 'adj_high': None, 'adj_low': None, 'adj_close': 127.31, 'adj_open': None, 'adj_volume': None, 'split_factor': 1.0, 'symbol': 'AAPL', 'exchange': 'XNAS', 'date': '2021-05-20T00:00:00+0000'}, {'open': 123.16, 'high': 124.915, 'low': 122.88, 'close': 124.69, 'volume': 85649375.0, 'adj_high': None, 'adj_low': None, 'adj_close': 124.69, 'adj_open': None, 'adj_volume': None, 'split_factor': 1.0, 'symbol': 'AAPL', 'exchange': 'XNAS', 'date': '2021-05-19T00:00:00+0000'}, {'open': 126.56, 'high': 126.9878, 'low': 124.78, 'close': 124.85, 'volume': 59794196.0, 'adj_high': None, 'adj_low': None, 'adj_close': 124.85, 'adj_open': None, 'adj_volume': None, 'split_factor': 1.0, 'symbol': 'AAPL', 'exchange': 'XNAS', 'date': '2021-05-18T00:00:00+0000'}, {'open': 126.82, 'high': 126.92, 'low': 125.17, 'close': 126.27, 'volume': 67867172.0, 'adj_high': None, 'adj_low': None, 'adj_close': 126.27, 'adj_open': None, 'adj_volume': None, 'split_factor': 1.0, 'symbol': 'AAPL', 'exchange': 'XNAS', 'date': '2021-05-17T00:00:00+0000'}, {'open': 126.25, 'high': 127.88, 'low': 125.85, 'close': 127.45, 'volume': 77970942.0, 'adj_high': None, 'adj_low': None, 'adj_close': 127.45, 'adj_open': None, 'adj_volume': None, 'split_factor': 1.0, 'symbol': 'AAPL', 'exchange': 'XNAS', 'date': '2021-05-14T00:00:00+0000'}, {'open': 124.58, 'high': 126.15, 'low': 124.26, 'close': 124.97, 'volume': 102137673.0, 'adj_high': None, 'adj_low': None, 'adj_close': 124.97, 'adj_open': None, 'adj_volume': None, 'split_factor': 1.0, 'symbol': 'AAPL', 'exchange': 'XNAS', 'date': '2021-05-13T00:00:00+0000'}, {'open': 123.4, 'high': 124.64, 'low': 122.25, 'close': 122.77, 'volume': 107046695.0, 'adj_high': None, 'adj_low': None, 'adj_close': 122.77, 'adj_open': None, 'adj_volume': None, 'split_factor': 1.0, 'symbol': 'AAPL', 'exchange': 'XNAS', 'date': '2021-05-12T00:00:00+0000'}, {'open': 123.5, 'high': 126.27, 'low': 122.78, 'close': 125.91, 'volume': 124362743.0, 'adj_high': None, 'adj_low': None, 'adj_close': 125.91, 'adj_open': None, 'adj_volume': None, 'split_factor': 1.0, 'symbol': 'AAPL', 'exchange': 'XNAS', 'date': '2021-05-11T00:00:00+0000'}, {'open': 129.41, 'high': 129.54, 'low': 126.81, 'close': 126.85, 'volume': 85152395.0, 'adj_high': None, 'adj_low': None, 'adj_close': 126.85, 'adj_open': None, 'adj_volume': None, 'split_factor': 1.0, 'symbol': 'AAPL', 'exchange': 'XNAS', 'date': '2021-05-10T00:00:00+0000'}, {'open': 130.85, 'high': 131.26, 'low': 129.48, 'close': 130.21, 'volume': 78892700.0, 'adj_high': None, 'adj_low': None, 'adj_close': 130.21, 'adj_open': None, 'adj_volume': None, 'split_factor': 1.0, 'symbol': 'AAPL', 'exchange': 'XNAS', 'date': '2021-05-07T00:00:00+0000'}, {'open': 127.89, 'high': 129.75, 'low': 127.1306, 'close': 129.74, 'volume': 75870303.0, 'adj_high': None, 'adj_low': None, 'adj_close': 129.74, 'adj_open': None, 'adj_volume': None, 'split_factor': 1.0, 'symbol': 'AAPL', 'exchange': 'XNAS', 'date': '2021-05-06T00:00:00+0000'}, {'open': 129.2, 'high': 130.44, 'low': 127.9744, 'close': 128.1, 'volume': 81207034.0, 'adj_high': None, 'adj_low': None, 'adj_close': 128.1, 'adj_open': None, 'adj_volume': None, 'split_factor': 1.0, 'symbol': 'AAPL', 'exchange': 'XNAS', 'date': '2021-05-05T00:00:00+0000'}]\n"
     ]
    }
   ],
   "source": [
    "data = api_response['data']\n",
    "\n",
    "print('Number of fields in data: ' + str(len(data)))\n",
    "print()\n",
    "\n",
    "for field in data.keys():\n",
    "  print(field + ': ' + str(data[field]))"
   ]
  },
  {
   "cell_type": "code",
   "execution_count": 4,
   "metadata": {
    "colab": {
     "base_uri": "https://localhost:8080/"
    },
    "id": "er87uAfmzYuS",
    "outputId": "d54a1577-45f1-485e-8e38-bfede73208bd"
   },
   "outputs": [
    {
     "name": "stdout",
     "output_type": "stream",
     "text": [
      "Number of EOD data units = 100\n",
      "\n",
      "open: 145.66\n",
      "high: 147.47\n",
      "low: 145.57\n",
      "close: 146.92\n",
      "volume: 53477869.0\n",
      "adj_high: None\n",
      "adj_low: None\n",
      "adj_close: 146.92\n",
      "adj_open: None\n",
      "adj_volume: None\n",
      "split_factor: 1.0\n",
      "symbol: AAPL\n",
      "exchange: XNAS\n",
      "date: 2021-09-24T00:00:00+0000\n"
     ]
    }
   ],
   "source": [
    "print('Number of EOD data units = ' + str(len(data['eod'])))\n",
    "print()\n",
    "\n",
    "eod_A = data['eod'][0]\n",
    "\n",
    "for info in eod_A:\n",
    "  print(info + ': ' + str(eod_A[info]))"
   ]
  },
  {
   "cell_type": "code",
   "execution_count": 5,
   "metadata": {
    "id": "hYLgNn3dzax5"
   },
   "outputs": [],
   "source": [
    "# ^_^ Thank You"
   ]
  }
 ],
 "metadata": {
  "colab": {
   "name": "marketstack_API.ipynb",
   "provenance": []
  },
  "kernelspec": {
   "display_name": "Python 3",
   "language": "python",
   "name": "python3"
  },
  "language_info": {
   "codemirror_mode": {
    "name": "ipython",
    "version": 3
   },
   "file_extension": ".py",
   "mimetype": "text/x-python",
   "name": "python",
   "nbconvert_exporter": "python",
   "pygments_lexer": "ipython3",
   "version": "3.8.10"
  }
 },
 "nbformat": 4,
 "nbformat_minor": 1
}
